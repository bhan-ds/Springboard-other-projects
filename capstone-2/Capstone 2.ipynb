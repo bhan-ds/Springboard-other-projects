{
 "cells": [
  {
   "cell_type": "code",
   "execution_count": 1,
   "metadata": {},
   "outputs": [],
   "source": [
    "import pandas as pd\n",
    "import matplotlib.pyplot as plt\n",
    "import numpy as np\n",
    "import seaborn as sns\n",
    "from scipy import stats\n",
    "import datetime"
   ]
  },
  {
   "cell_type": "code",
   "execution_count": 2,
   "metadata": {},
   "outputs": [],
   "source": [
    "def get_top_nums(df, column, n):\n",
    "    '''\n",
    "    pulls top n number of entries from df['column'] and assigns it to a dataframe: name\n",
    "    takes arguments df=original dataframe, column passed in as a string, and n = number of values desired \n",
    "    '''\n",
    "    df_count = df[column].value_counts().head(n)\n",
    "    new_df = pd.DataFrame(df_count).reset_index()\n",
    "    #renaming columns to better represent the description and their value counts\n",
    "    new_df = new_df.rename(columns={\"index\":column, column:\"ValueCount\"})\n",
    "    #selecting top n from new list\n",
    "    new_df = new_df.head(n)\n",
    "    return new_df"
   ]
  },
  {
   "cell_type": "code",
   "execution_count": 3,
   "metadata": {},
   "outputs": [],
   "source": [
    "retail = pd.read_excel('Online Retail.xlsx')"
   ]
  },
  {
   "cell_type": "code",
   "execution_count": 4,
   "metadata": {},
   "outputs": [
    {
     "name": "stdout",
     "output_type": "stream",
     "text": [
      "<class 'pandas.core.frame.DataFrame'>\n",
      "RangeIndex: 541909 entries, 0 to 541908\n",
      "Data columns (total 8 columns):\n",
      "InvoiceNo      541909 non-null object\n",
      "StockCode      541909 non-null object\n",
      "Description    540455 non-null object\n",
      "Quantity       541909 non-null int64\n",
      "InvoiceDate    541909 non-null datetime64[ns]\n",
      "UnitPrice      541909 non-null float64\n",
      "CustomerID     406829 non-null float64\n",
      "Country        541909 non-null object\n",
      "dtypes: datetime64[ns](1), float64(2), int64(1), object(4)\n",
      "memory usage: 33.1+ MB\n"
     ]
    }
   ],
   "source": [
    "retail.info()"
   ]
  },
  {
   "cell_type": "code",
   "execution_count": 5,
   "metadata": {
    "scrolled": false
   },
   "outputs": [
    {
     "data": {
      "text/html": [
       "<div>\n",
       "<style scoped>\n",
       "    .dataframe tbody tr th:only-of-type {\n",
       "        vertical-align: middle;\n",
       "    }\n",
       "\n",
       "    .dataframe tbody tr th {\n",
       "        vertical-align: top;\n",
       "    }\n",
       "\n",
       "    .dataframe thead th {\n",
       "        text-align: right;\n",
       "    }\n",
       "</style>\n",
       "<table border=\"1\" class=\"dataframe\">\n",
       "  <thead>\n",
       "    <tr style=\"text-align: right;\">\n",
       "      <th></th>\n",
       "      <th>InvoiceNo</th>\n",
       "      <th>StockCode</th>\n",
       "      <th>Description</th>\n",
       "      <th>Quantity</th>\n",
       "      <th>InvoiceDate</th>\n",
       "      <th>UnitPrice</th>\n",
       "      <th>CustomerID</th>\n",
       "      <th>Country</th>\n",
       "    </tr>\n",
       "  </thead>\n",
       "  <tbody>\n",
       "    <tr>\n",
       "      <td>0</td>\n",
       "      <td>536365</td>\n",
       "      <td>85123A</td>\n",
       "      <td>WHITE HANGING HEART T-LIGHT HOLDER</td>\n",
       "      <td>6</td>\n",
       "      <td>2010-12-01 08:26:00</td>\n",
       "      <td>2.55</td>\n",
       "      <td>17850.0</td>\n",
       "      <td>United Kingdom</td>\n",
       "    </tr>\n",
       "    <tr>\n",
       "      <td>1</td>\n",
       "      <td>536365</td>\n",
       "      <td>71053</td>\n",
       "      <td>WHITE METAL LANTERN</td>\n",
       "      <td>6</td>\n",
       "      <td>2010-12-01 08:26:00</td>\n",
       "      <td>3.39</td>\n",
       "      <td>17850.0</td>\n",
       "      <td>United Kingdom</td>\n",
       "    </tr>\n",
       "    <tr>\n",
       "      <td>2</td>\n",
       "      <td>536365</td>\n",
       "      <td>84406B</td>\n",
       "      <td>CREAM CUPID HEARTS COAT HANGER</td>\n",
       "      <td>8</td>\n",
       "      <td>2010-12-01 08:26:00</td>\n",
       "      <td>2.75</td>\n",
       "      <td>17850.0</td>\n",
       "      <td>United Kingdom</td>\n",
       "    </tr>\n",
       "    <tr>\n",
       "      <td>3</td>\n",
       "      <td>536365</td>\n",
       "      <td>84029G</td>\n",
       "      <td>KNITTED UNION FLAG HOT WATER BOTTLE</td>\n",
       "      <td>6</td>\n",
       "      <td>2010-12-01 08:26:00</td>\n",
       "      <td>3.39</td>\n",
       "      <td>17850.0</td>\n",
       "      <td>United Kingdom</td>\n",
       "    </tr>\n",
       "    <tr>\n",
       "      <td>4</td>\n",
       "      <td>536365</td>\n",
       "      <td>84029E</td>\n",
       "      <td>RED WOOLLY HOTTIE WHITE HEART.</td>\n",
       "      <td>6</td>\n",
       "      <td>2010-12-01 08:26:00</td>\n",
       "      <td>3.39</td>\n",
       "      <td>17850.0</td>\n",
       "      <td>United Kingdom</td>\n",
       "    </tr>\n",
       "  </tbody>\n",
       "</table>\n",
       "</div>"
      ],
      "text/plain": [
       "  InvoiceNo StockCode                          Description  Quantity  \\\n",
       "0    536365    85123A   WHITE HANGING HEART T-LIGHT HOLDER         6   \n",
       "1    536365     71053                  WHITE METAL LANTERN         6   \n",
       "2    536365    84406B       CREAM CUPID HEARTS COAT HANGER         8   \n",
       "3    536365    84029G  KNITTED UNION FLAG HOT WATER BOTTLE         6   \n",
       "4    536365    84029E       RED WOOLLY HOTTIE WHITE HEART.         6   \n",
       "\n",
       "          InvoiceDate  UnitPrice  CustomerID         Country  \n",
       "0 2010-12-01 08:26:00       2.55     17850.0  United Kingdom  \n",
       "1 2010-12-01 08:26:00       3.39     17850.0  United Kingdom  \n",
       "2 2010-12-01 08:26:00       2.75     17850.0  United Kingdom  \n",
       "3 2010-12-01 08:26:00       3.39     17850.0  United Kingdom  \n",
       "4 2010-12-01 08:26:00       3.39     17850.0  United Kingdom  "
      ]
     },
     "execution_count": 5,
     "metadata": {},
     "output_type": "execute_result"
    }
   ],
   "source": [
    "retail.head()"
   ]
  },
  {
   "cell_type": "markdown",
   "metadata": {},
   "source": [
    "From the UCI website (where I got the data), the columns are: \n",
    "   - InvoiceNo: Invoice number. Nominal, a 6-digit integral number uniquely assigned to each transaction. If this code starts with letter 'c', it indicates a cancellation.\n",
    "   - StockCode: Product (item) code. Nominal, a 5-digit integral number uniquely assigned to each distinct product.\n",
    "   - Description: Product (item) name. Nominal.\n",
    "   - Quantity: The quantities of each product (item) per transaction. Numeric.\n",
    "   - InvoiceDate: Invice Date and time. Numeric, the day and time when each transaction was generated.\n",
    "   - UnitPrice: Unit price. Numeric, Product price per unit in sterling.\n",
    "   - CustomerID: Customer number. Nominal, a 5-digit integral number uniquely assigned to each customer.\n",
    "   - Country: Country name. Nominal, the name of the country where each customer resides."
   ]
  },
  {
   "cell_type": "markdown",
   "metadata": {},
   "source": [
    "## Cancelled products analysis"
   ]
  },
  {
   "cell_type": "code",
   "execution_count": 6,
   "metadata": {},
   "outputs": [
    {
     "data": {
      "text/html": [
       "<div>\n",
       "<style scoped>\n",
       "    .dataframe tbody tr th:only-of-type {\n",
       "        vertical-align: middle;\n",
       "    }\n",
       "\n",
       "    .dataframe tbody tr th {\n",
       "        vertical-align: top;\n",
       "    }\n",
       "\n",
       "    .dataframe thead th {\n",
       "        text-align: right;\n",
       "    }\n",
       "</style>\n",
       "<table border=\"1\" class=\"dataframe\">\n",
       "  <thead>\n",
       "    <tr style=\"text-align: right;\">\n",
       "      <th></th>\n",
       "      <th>InvoiceNo</th>\n",
       "      <th>StockCode</th>\n",
       "      <th>Description</th>\n",
       "      <th>Quantity</th>\n",
       "      <th>InvoiceDate</th>\n",
       "      <th>UnitPrice</th>\n",
       "      <th>CustomerID</th>\n",
       "      <th>Country</th>\n",
       "    </tr>\n",
       "  </thead>\n",
       "  <tbody>\n",
       "    <tr>\n",
       "      <td>141</td>\n",
       "      <td>C536379</td>\n",
       "      <td>D</td>\n",
       "      <td>Discount</td>\n",
       "      <td>-1</td>\n",
       "      <td>2010-12-01 09:41:00</td>\n",
       "      <td>27.50</td>\n",
       "      <td>14527.0</td>\n",
       "      <td>United Kingdom</td>\n",
       "    </tr>\n",
       "    <tr>\n",
       "      <td>154</td>\n",
       "      <td>C536383</td>\n",
       "      <td>35004C</td>\n",
       "      <td>SET OF 3 COLOURED  FLYING DUCKS</td>\n",
       "      <td>-1</td>\n",
       "      <td>2010-12-01 09:49:00</td>\n",
       "      <td>4.65</td>\n",
       "      <td>15311.0</td>\n",
       "      <td>United Kingdom</td>\n",
       "    </tr>\n",
       "    <tr>\n",
       "      <td>235</td>\n",
       "      <td>C536391</td>\n",
       "      <td>22556</td>\n",
       "      <td>PLASTERS IN TIN CIRCUS PARADE</td>\n",
       "      <td>-12</td>\n",
       "      <td>2010-12-01 10:24:00</td>\n",
       "      <td>1.65</td>\n",
       "      <td>17548.0</td>\n",
       "      <td>United Kingdom</td>\n",
       "    </tr>\n",
       "    <tr>\n",
       "      <td>236</td>\n",
       "      <td>C536391</td>\n",
       "      <td>21984</td>\n",
       "      <td>PACK OF 12 PINK PAISLEY TISSUES</td>\n",
       "      <td>-24</td>\n",
       "      <td>2010-12-01 10:24:00</td>\n",
       "      <td>0.29</td>\n",
       "      <td>17548.0</td>\n",
       "      <td>United Kingdom</td>\n",
       "    </tr>\n",
       "    <tr>\n",
       "      <td>237</td>\n",
       "      <td>C536391</td>\n",
       "      <td>21983</td>\n",
       "      <td>PACK OF 12 BLUE PAISLEY TISSUES</td>\n",
       "      <td>-24</td>\n",
       "      <td>2010-12-01 10:24:00</td>\n",
       "      <td>0.29</td>\n",
       "      <td>17548.0</td>\n",
       "      <td>United Kingdom</td>\n",
       "    </tr>\n",
       "  </tbody>\n",
       "</table>\n",
       "</div>"
      ],
      "text/plain": [
       "    InvoiceNo StockCode                       Description  Quantity  \\\n",
       "141   C536379         D                          Discount        -1   \n",
       "154   C536383    35004C   SET OF 3 COLOURED  FLYING DUCKS        -1   \n",
       "235   C536391     22556    PLASTERS IN TIN CIRCUS PARADE        -12   \n",
       "236   C536391     21984  PACK OF 12 PINK PAISLEY TISSUES        -24   \n",
       "237   C536391     21983  PACK OF 12 BLUE PAISLEY TISSUES        -24   \n",
       "\n",
       "            InvoiceDate  UnitPrice  CustomerID         Country  \n",
       "141 2010-12-01 09:41:00      27.50     14527.0  United Kingdom  \n",
       "154 2010-12-01 09:49:00       4.65     15311.0  United Kingdom  \n",
       "235 2010-12-01 10:24:00       1.65     17548.0  United Kingdom  \n",
       "236 2010-12-01 10:24:00       0.29     17548.0  United Kingdom  \n",
       "237 2010-12-01 10:24:00       0.29     17548.0  United Kingdom  "
      ]
     },
     "execution_count": 6,
     "metadata": {},
     "output_type": "execute_result"
    }
   ],
   "source": [
    "cancelled = retail.loc[retail['InvoiceNo'].str.contains('C', na=False)]\n",
    "cancelled.head()"
   ]
  },
  {
   "cell_type": "markdown",
   "metadata": {},
   "source": [
    "**I do notice that the quantities of all cancelled orders are negative numbers**"
   ]
  },
  {
   "cell_type": "code",
   "execution_count": 7,
   "metadata": {},
   "outputs": [
    {
     "name": "stdout",
     "output_type": "stream",
     "text": [
      "<class 'pandas.core.frame.DataFrame'>\n",
      "Int64Index: 9288 entries, 141 to 541717\n",
      "Data columns (total 8 columns):\n",
      "InvoiceNo      9288 non-null object\n",
      "StockCode      9288 non-null object\n",
      "Description    9288 non-null object\n",
      "Quantity       9288 non-null int64\n",
      "InvoiceDate    9288 non-null datetime64[ns]\n",
      "UnitPrice      9288 non-null float64\n",
      "CustomerID     8905 non-null float64\n",
      "Country        9288 non-null object\n",
      "dtypes: datetime64[ns](1), float64(2), int64(1), object(4)\n",
      "memory usage: 653.1+ KB\n"
     ]
    }
   ],
   "source": [
    "cancelled.info()"
   ]
  },
  {
   "cell_type": "markdown",
   "metadata": {},
   "source": [
    "I looked at the total cancellations by date:"
   ]
  },
  {
   "cell_type": "code",
   "execution_count": 8,
   "metadata": {},
   "outputs": [
    {
     "name": "stderr",
     "output_type": "stream",
     "text": [
      "C:\\Users\\brittany\\Anaconda3\\lib\\site-packages\\pandas\\plotting\\_matplotlib\\converter.py:103: FutureWarning: Using an implicitly registered datetime converter for a matplotlib plotting method. The converter was registered by pandas on import. Future versions of pandas will require you to explicitly register matplotlib converters.\n",
      "\n",
      "To register the converters:\n",
      "\t>>> from pandas.plotting import register_matplotlib_converters\n",
      "\t>>> register_matplotlib_converters()\n",
      "  warnings.warn(msg, FutureWarning)\n"
     ]
    },
    {
     "data": {
      "image/png": "[encoded data removed]",
      "text/plain": [
       "<Figure size 1296x432 with 1 Axes>"
      ]
     },
     "metadata": {
      "needs_background": "light"
     },
     "output_type": "display_data"
    }
   ],
   "source": [
    "_ = plt.figure(figsize=[18,6])\n",
    "_ = plt.hist(cancelled['InvoiceDate'], bins=52)\n",
    "_ = plt.xlabel('Date')\n",
    "_ = plt.ylabel('Number of cancellations')\n",
    "_ = plt.title('Number of Cancellations by Date')\n",
    "plt.show()"
   ]
  },
  {
   "cell_type": "markdown",
   "metadata": {},
   "source": [
    "I notice that there is a peak well above the rest around 2011-10. I looked a little closer to try to find a more specific range."
   ]
  },
  {
   "cell_type": "code",
   "execution_count": 9,
   "metadata": {
    "scrolled": true
   },
   "outputs": [
    {
     "data": {
      "image/png": "[encoded data removed]",
      "text/plain": [
       "<Figure size 1296x432 with 1 Axes>"
      ]
     },
     "metadata": {
      "needs_background": "light"
     },
     "output_type": "display_data"
    }
   ],
   "source": [
    "min_date = np.datetime64('2011-09-25')\n",
    "max_date = np.datetime64('2011-10-25')\n",
    "_ = plt.figure(figsize=[18,6])\n",
    "_ = plt.hist(cancelled['InvoiceDate'], bins=30)\n",
    "_ = plt.xlabel('Date')\n",
    "_ = plt.ylabel('Number of cancellations')\n",
    "_ = plt.title('Number of Cancellations in Date Range 2011-09-25 to 2011-10-25')\n",
    "_ = plt.xlim(min_date, max_date)\n",
    "plt.show()"
   ]
  },
  {
   "cell_type": "markdown",
   "metadata": {},
   "source": [
    "I wanted to see if those spikes coincided with holidays at all (which would likely be times of increased gift purchasing. I made an excel spreadsheet from the UK holidays listed on this website: https://www.timeanddate.com/holidays/uk/2011"
   ]
  },
  {
   "cell_type": "code",
   "execution_count": 10,
   "metadata": {},
   "outputs": [
    {
     "data": {
      "text/html": [
       "<div>\n",
       "<style scoped>\n",
       "    .dataframe tbody tr th:only-of-type {\n",
       "        vertical-align: middle;\n",
       "    }\n",
       "\n",
       "    .dataframe tbody tr th {\n",
       "        vertical-align: top;\n",
       "    }\n",
       "\n",
       "    .dataframe thead th {\n",
       "        text-align: right;\n",
       "    }\n",
       "</style>\n",
       "<table border=\"1\" class=\"dataframe\">\n",
       "  <thead>\n",
       "    <tr style=\"text-align: right;\">\n",
       "      <th></th>\n",
       "      <th>Date</th>\n",
       "      <th>DayOfWeek</th>\n",
       "      <th>Name</th>\n",
       "      <th>Type</th>\n",
       "      <th>Details</th>\n",
       "    </tr>\n",
       "  </thead>\n",
       "  <tbody>\n",
       "    <tr>\n",
       "      <td>0</td>\n",
       "      <td>2011-01-01</td>\n",
       "      <td>Saturday</td>\n",
       "      <td>New Year's Day</td>\n",
       "      <td>Bank holiday</td>\n",
       "      <td>NaN</td>\n",
       "    </tr>\n",
       "    <tr>\n",
       "      <td>1</td>\n",
       "      <td>2011-01-03</td>\n",
       "      <td>Monday</td>\n",
       "      <td>New Year's Day observed</td>\n",
       "      <td>Bank holiday</td>\n",
       "      <td>NaN</td>\n",
       "    </tr>\n",
       "    <tr>\n",
       "      <td>2</td>\n",
       "      <td>2011-01-03</td>\n",
       "      <td>Monday</td>\n",
       "      <td>New Year's Day Holiday</td>\n",
       "      <td>Bank holiday</td>\n",
       "      <td>NaN</td>\n",
       "    </tr>\n",
       "    <tr>\n",
       "      <td>3</td>\n",
       "      <td>2011-01-04</td>\n",
       "      <td>Tuesday</td>\n",
       "      <td>2nd January (substitute day)</td>\n",
       "      <td>Local Bank Holiday</td>\n",
       "      <td>Scotland</td>\n",
       "    </tr>\n",
       "    <tr>\n",
       "      <td>4</td>\n",
       "      <td>2011-01-06</td>\n",
       "      <td>Thursday</td>\n",
       "      <td>Epiphany</td>\n",
       "      <td>Christian</td>\n",
       "      <td>NaN</td>\n",
       "    </tr>\n",
       "  </tbody>\n",
       "</table>\n",
       "</div>"
      ],
      "text/plain": [
       "        Date DayOfWeek                          Name                Type  \\\n",
       "0 2011-01-01  Saturday                New Year's Day        Bank holiday   \n",
       "1 2011-01-03    Monday       New Year's Day observed        Bank holiday   \n",
       "2 2011-01-03    Monday        New Year's Day Holiday        Bank holiday   \n",
       "3 2011-01-04   Tuesday  2nd January (substitute day)  Local Bank Holiday   \n",
       "4 2011-01-06  Thursday                      Epiphany           Christian   \n",
       "\n",
       "    Details  \n",
       "0       NaN  \n",
       "1       NaN  \n",
       "2       NaN  \n",
       "3  Scotland  \n",
       "4       NaN  "
      ]
     },
     "execution_count": 10,
     "metadata": {},
     "output_type": "execute_result"
    }
   ],
   "source": [
    "holidays = pd.read_excel('Holidays.xlsx')\n",
    "holidays.head()"
   ]
  },
  {
   "cell_type": "code",
   "execution_count": 11,
   "metadata": {},
   "outputs": [
    {
     "name": "stdout",
     "output_type": "stream",
     "text": [
      "<class 'pandas.core.frame.DataFrame'>\n",
      "RangeIndex: 95 entries, 0 to 94\n",
      "Data columns (total 5 columns):\n",
      "Date         95 non-null datetime64[ns]\n",
      "DayOfWeek    95 non-null object\n",
      "Name         95 non-null object\n",
      "Type         95 non-null object\n",
      "Details      10 non-null object\n",
      "dtypes: datetime64[ns](1), object(4)\n",
      "memory usage: 3.8+ KB\n"
     ]
    }
   ],
   "source": [
    "holidays.info()"
   ]
  },
  {
   "cell_type": "code",
   "execution_count": 12,
   "metadata": {
    "scrolled": true
   },
   "outputs": [
    {
     "data": {
      "image/png": "[encoded data removed]",
      "text/plain": [
       "<Figure size 1296x432 with 1 Axes>"
      ]
     },
     "metadata": {
      "needs_background": "light"
     },
     "output_type": "display_data"
    }
   ],
   "source": [
    "_ = plt.figure(figsize=[18,6])\n",
    "_ = plt.hist([cancelled['InvoiceDate'], holidays['Date']], bins=60, label=['Cancelled Invoices', 'Holidays'])\n",
    "_ = plt.xlabel('Date')\n",
    "_ = plt.ylabel('Number of cancellations')\n",
    "_ = plt.title('Number of Cancellations by in Date range 25-Sept-2011 to 25-October-2011 with Holidays overlaid')\n",
    "_ = plt.legend(loc='upper right')\n",
    "_ = plt.xlim(min_date, max_date)\n",
    "plt.show()"
   ]
  },
  {
   "cell_type": "markdown",
   "metadata": {},
   "source": [
    "I found which holiday(s) are in the the range of 09-October-2011. Looks like primarily Jewish holidays which are not tied with gift giving. "
   ]
  },
  {
   "cell_type": "code",
   "execution_count": 13,
   "metadata": {
    "scrolled": true
   },
   "outputs": [
    {
     "data": {
      "text/html": [
       "<div>\n",
       "<style scoped>\n",
       "    .dataframe tbody tr th:only-of-type {\n",
       "        vertical-align: middle;\n",
       "    }\n",
       "\n",
       "    .dataframe tbody tr th {\n",
       "        vertical-align: top;\n",
       "    }\n",
       "\n",
       "    .dataframe thead th {\n",
       "        text-align: right;\n",
       "    }\n",
       "</style>\n",
       "<table border=\"1\" class=\"dataframe\">\n",
       "  <thead>\n",
       "    <tr style=\"text-align: right;\">\n",
       "      <th></th>\n",
       "      <th>DayOfWeek</th>\n",
       "      <th>Name</th>\n",
       "      <th>Type</th>\n",
       "      <th>Details</th>\n",
       "    </tr>\n",
       "    <tr>\n",
       "      <th>Date</th>\n",
       "      <th></th>\n",
       "      <th></th>\n",
       "      <th></th>\n",
       "      <th></th>\n",
       "    </tr>\n",
       "  </thead>\n",
       "  <tbody>\n",
       "    <tr>\n",
       "      <td>2011-09-28</td>\n",
       "      <td>Wednesday</td>\n",
       "      <td>Navaratri</td>\n",
       "      <td>Hindu Holiday</td>\n",
       "      <td>NaN</td>\n",
       "    </tr>\n",
       "    <tr>\n",
       "      <td>2011-09-29</td>\n",
       "      <td>Thursday</td>\n",
       "      <td>Rosh Hashana</td>\n",
       "      <td>Jewish holiday</td>\n",
       "      <td>NaN</td>\n",
       "    </tr>\n",
       "    <tr>\n",
       "      <td>2011-10-04</td>\n",
       "      <td>Tuesday</td>\n",
       "      <td>Feast of St Francis of Assisi</td>\n",
       "      <td>Christian</td>\n",
       "      <td>NaN</td>\n",
       "    </tr>\n",
       "    <tr>\n",
       "      <td>2011-10-06</td>\n",
       "      <td>Thursday</td>\n",
       "      <td>Dussehra</td>\n",
       "      <td>Hindu Holiday</td>\n",
       "      <td>NaN</td>\n",
       "    </tr>\n",
       "    <tr>\n",
       "      <td>2011-10-08</td>\n",
       "      <td>Saturday</td>\n",
       "      <td>Yom Kippur</td>\n",
       "      <td>Jewish holiday</td>\n",
       "      <td>NaN</td>\n",
       "    </tr>\n",
       "    <tr>\n",
       "      <td>2011-10-13</td>\n",
       "      <td>Thursday</td>\n",
       "      <td>First day of Sukkot</td>\n",
       "      <td>Jewish holiday</td>\n",
       "      <td>NaN</td>\n",
       "    </tr>\n",
       "    <tr>\n",
       "      <td>2011-10-19</td>\n",
       "      <td>Wednesday</td>\n",
       "      <td>Hoshana Rabbah</td>\n",
       "      <td>Jewish holiday</td>\n",
       "      <td>NaN</td>\n",
       "    </tr>\n",
       "    <tr>\n",
       "      <td>2011-10-20</td>\n",
       "      <td>Thursday</td>\n",
       "      <td>Shemini Atzeret</td>\n",
       "      <td>Jewish holiday</td>\n",
       "      <td>NaN</td>\n",
       "    </tr>\n",
       "    <tr>\n",
       "      <td>2011-10-21</td>\n",
       "      <td>Friday</td>\n",
       "      <td>Simchat Torah</td>\n",
       "      <td>Jewish holiday</td>\n",
       "      <td>NaN</td>\n",
       "    </tr>\n",
       "  </tbody>\n",
       "</table>\n",
       "</div>"
      ],
      "text/plain": [
       "            DayOfWeek                           Name            Type Details\n",
       "Date                                                                        \n",
       "2011-09-28  Wednesday                      Navaratri   Hindu Holiday     NaN\n",
       "2011-09-29   Thursday                   Rosh Hashana  Jewish holiday     NaN\n",
       "2011-10-04    Tuesday  Feast of St Francis of Assisi       Christian     NaN\n",
       "2011-10-06   Thursday                       Dussehra   Hindu Holiday     NaN\n",
       "2011-10-08   Saturday                     Yom Kippur  Jewish holiday     NaN\n",
       "2011-10-13   Thursday            First day of Sukkot  Jewish holiday     NaN\n",
       "2011-10-19  Wednesday                 Hoshana Rabbah  Jewish holiday     NaN\n",
       "2011-10-20   Thursday                Shemini Atzeret  Jewish holiday     NaN\n",
       "2011-10-21     Friday                  Simchat Torah  Jewish holiday     NaN"
      ]
     },
     "execution_count": 13,
     "metadata": {},
     "output_type": "execute_result"
    }
   ],
   "source": [
    "holidays_by_date = holidays.set_index(['Date'])\n",
    "holidays_by_date.loc['2011-09-25':'2011-10-21']"
   ]
  },
  {
   "cell_type": "markdown",
   "metadata": {},
   "source": [
    "I also looked at the holidays 30 days prior to see if there was anything of note."
   ]
  },
  {
   "cell_type": "code",
   "execution_count": 14,
   "metadata": {
    "scrolled": true
   },
   "outputs": [
    {
     "data": {
      "text/html": [
       "<div>\n",
       "<style scoped>\n",
       "    .dataframe tbody tr th:only-of-type {\n",
       "        vertical-align: middle;\n",
       "    }\n",
       "\n",
       "    .dataframe tbody tr th {\n",
       "        vertical-align: top;\n",
       "    }\n",
       "\n",
       "    .dataframe thead th {\n",
       "        text-align: right;\n",
       "    }\n",
       "</style>\n",
       "<table border=\"1\" class=\"dataframe\">\n",
       "  <thead>\n",
       "    <tr style=\"text-align: right;\">\n",
       "      <th></th>\n",
       "      <th>DayOfWeek</th>\n",
       "      <th>Name</th>\n",
       "      <th>Type</th>\n",
       "      <th>Details</th>\n",
       "    </tr>\n",
       "    <tr>\n",
       "      <th>Date</th>\n",
       "      <th></th>\n",
       "      <th></th>\n",
       "      <th></th>\n",
       "      <th></th>\n",
       "    </tr>\n",
       "  </thead>\n",
       "  <tbody>\n",
       "    <tr>\n",
       "      <td>2011-08-26</td>\n",
       "      <td>Friday</td>\n",
       "      <td>Laylatul Qadr (Night of Power)</td>\n",
       "      <td>Muslim</td>\n",
       "      <td>NaN</td>\n",
       "    </tr>\n",
       "    <tr>\n",
       "      <td>2011-08-29</td>\n",
       "      <td>Monday</td>\n",
       "      <td>Summer Bank Holiday</td>\n",
       "      <td>Common local holiday</td>\n",
       "      <td>ENG, NIR, WAL</td>\n",
       "    </tr>\n",
       "    <tr>\n",
       "      <td>2011-08-31</td>\n",
       "      <td>Wednesday</td>\n",
       "      <td>Eid ul Fitr</td>\n",
       "      <td>Muslim</td>\n",
       "      <td>NaN</td>\n",
       "    </tr>\n",
       "    <tr>\n",
       "      <td>2011-09-01</td>\n",
       "      <td>Thursday</td>\n",
       "      <td>Ganesh Chaturthi</td>\n",
       "      <td>Hindu Holiday</td>\n",
       "      <td>NaN</td>\n",
       "    </tr>\n",
       "    <tr>\n",
       "      <td>2011-09-23</td>\n",
       "      <td>Friday</td>\n",
       "      <td>September Equinox</td>\n",
       "      <td>Season</td>\n",
       "      <td>NaN</td>\n",
       "    </tr>\n",
       "  </tbody>\n",
       "</table>\n",
       "</div>"
      ],
      "text/plain": [
       "            DayOfWeek                            Name                  Type  \\\n",
       "Date                                                                          \n",
       "2011-08-26     Friday  Laylatul Qadr (Night of Power)                Muslim   \n",
       "2011-08-29     Monday             Summer Bank Holiday  Common local holiday   \n",
       "2011-08-31  Wednesday                     Eid ul Fitr                Muslim   \n",
       "2011-09-01   Thursday                Ganesh Chaturthi         Hindu Holiday   \n",
       "2011-09-23     Friday               September Equinox                Season   \n",
       "\n",
       "                  Details  \n",
       "Date                       \n",
       "2011-08-26            NaN  \n",
       "2011-08-29  ENG, NIR, WAL  \n",
       "2011-08-31            NaN  \n",
       "2011-09-01            NaN  \n",
       "2011-09-23            NaN  "
      ]
     },
     "execution_count": 14,
     "metadata": {},
     "output_type": "execute_result"
    }
   ],
   "source": [
    "holidays_by_date.loc['2011-08-25':'2011-09-25']"
   ]
  },
  {
   "cell_type": "markdown",
   "metadata": {},
   "source": [
    "None of those seem like likely reasons for the big spike in returns. I completed a brief search for top news stories in the UK around that time and found that unemployment was having “the largest increase in nearly two years” which may be a contributing factor. \n",
    "https://www.bbc.com/news/business-14912236"
   ]
  },
  {
   "cell_type": "markdown",
   "metadata": {},
   "source": [
    "I looked to see if there was a day of the week that seemed to correspond to more (or fewer) cancellations than the others. First I added a column to correspond to day of the week, noting from the documentation that Monday=0 to Sunday=6\n",
    "\n",
    "When I attempted this, the days of the week were not accurate. I reset the index on the cancelled data frame to see if this was this issue, and that seemed to fix it."
   ]
  },
  {
   "cell_type": "code",
   "execution_count": 15,
   "metadata": {},
   "outputs": [],
   "source": [
    "cancelled = cancelled.reset_index(drop=True)\n",
    "cancelled['Weekday'] = cancelled['InvoiceDate'].dt.weekday_name\n",
    "\n",
    "#returns an integer of day of week: Monday=0 to Sunday=6\n",
    "cancelled['WeekdayNum'] = cancelled['InvoiceDate'].dt.weekday"
   ]
  },
  {
   "cell_type": "code",
   "execution_count": 16,
   "metadata": {
    "scrolled": true
   },
   "outputs": [
    {
     "data": {
      "image/png": "[encoded data removed]",
      "text/plain": [
       "<Figure size 648x360 with 1 Axes>"
      ]
     },
     "metadata": {
      "needs_background": "light"
     },
     "output_type": "display_data"
    }
   ],
   "source": [
    "days_of_week = ['Monday', 'Tuesday', 'Wednesday', 'Thursday', 'Friday', 'Saturday', 'Sunday']\n",
    "weekday_int = [0,1,2,3,4,5,6,7]\n",
    "_ = plt.figure(figsize=[9,5])\n",
    "_ = plt.hist(cancelled['WeekdayNum'], bins=weekday_int, align='left', rwidth=0.9)\n",
    "_ = plt.xticks(ticks=weekday_int, labels=days_of_week)\n",
    "_ = plt.xlabel('Day of Week')\n",
    "_ = plt.ylabel('Number of Cancellations')\n",
    "_ = plt.title('Number of Cancellations by Day of Week')\n",
    "plt.show()"
   ]
  },
  {
   "cell_type": "markdown",
   "metadata": {},
   "source": [
    "From the looks of the plot, the most returns happen on a Thursday and no returns happened on Saturday. I did a search for this, because this felt suspect, however no results came up for cancelled invoices on a Saturday"
   ]
  },
  {
   "cell_type": "code",
   "execution_count": 17,
   "metadata": {
    "scrolled": true
   },
   "outputs": [
    {
     "data": {
      "text/html": [
       "<div>\n",
       "<style scoped>\n",
       "    .dataframe tbody tr th:only-of-type {\n",
       "        vertical-align: middle;\n",
       "    }\n",
       "\n",
       "    .dataframe tbody tr th {\n",
       "        vertical-align: top;\n",
       "    }\n",
       "\n",
       "    .dataframe thead th {\n",
       "        text-align: right;\n",
       "    }\n",
       "</style>\n",
       "<table border=\"1\" class=\"dataframe\">\n",
       "  <thead>\n",
       "    <tr style=\"text-align: right;\">\n",
       "      <th></th>\n",
       "      <th>InvoiceNo</th>\n",
       "      <th>StockCode</th>\n",
       "      <th>Description</th>\n",
       "      <th>Quantity</th>\n",
       "      <th>InvoiceDate</th>\n",
       "      <th>UnitPrice</th>\n",
       "      <th>CustomerID</th>\n",
       "      <th>Country</th>\n",
       "      <th>Weekday</th>\n",
       "      <th>WeekdayNum</th>\n",
       "    </tr>\n",
       "  </thead>\n",
       "  <tbody>\n",
       "  </tbody>\n",
       "</table>\n",
       "</div>"
      ],
      "text/plain": [
       "Empty DataFrame\n",
       "Columns: [InvoiceNo, StockCode, Description, Quantity, InvoiceDate, UnitPrice, CustomerID, Country, Weekday, WeekdayNum]\n",
       "Index: []"
      ]
     },
     "execution_count": 17,
     "metadata": {},
     "output_type": "execute_result"
    }
   ],
   "source": [
    "cancelled.loc[cancelled['Weekday'] =='Saturday']"
   ]
  },
  {
   "cell_type": "code",
   "execution_count": 18,
   "metadata": {},
   "outputs": [],
   "source": [
    "monday_c = cancelled['Weekday'] =='Monday'\n",
    "tuesday_c = cancelled['Weekday'] =='Tuesday'\n",
    "wednesday_c = cancelled['Weekday'] =='Wednesday'\n",
    "thursday_c = cancelled['Weekday'] =='Thursday'\n",
    "friday_c = cancelled['Weekday'] =='Friday'\n",
    "saturday_c = cancelled['Weekday'] =='Saturday'\n",
    "sunday_c = cancelled['Weekday'] =='Sunday'"
   ]
  },
  {
   "cell_type": "code",
   "execution_count": 19,
   "metadata": {
    "scrolled": false
   },
   "outputs": [
    {
     "name": "stdout",
     "output_type": "stream",
     "text": [
      "ANOVA for all days of week: F_onewayResult(statistic=617.5717931790023, pvalue=0.0)\n"
     ]
    }
   ],
   "source": [
    "print('ANOVA for all days of week:', stats.f_oneway(monday_c, tuesday_c, wednesday_c, thursday_c, friday_c, saturday_c, sunday_c))"
   ]
  },
  {
   "cell_type": "markdown",
   "metadata": {},
   "source": [
    "For this, we can say that there it is statistically unlikely that the difference observed between all days of the week was due to chance."
   ]
  },
  {
   "cell_type": "markdown",
   "metadata": {},
   "source": [
    "I noted that there are 9288 cancelled orders, so I pulled out the top 20 most commonly cancelled orders. "
   ]
  },
  {
   "cell_type": "code",
   "execution_count": 20,
   "metadata": {
    "scrolled": true
   },
   "outputs": [
    {
     "data": {
      "text/plain": [
       "Manual                                 244\n",
       "REGENCY CAKESTAND 3 TIER               181\n",
       "POSTAGE                                126\n",
       "JAM MAKING SET WITH JARS                87\n",
       "Discount                                77\n",
       "SET OF 3 CAKE TINS PANTRY DESIGN        74\n",
       "SAMPLES                                 61\n",
       "STRAWBERRY CERAMIC TRINKET BOX          55\n",
       "ROSES REGENCY TEACUP AND SAUCER         54\n",
       "RECIPE BOX PANTRY YELLOW DESIGN         47\n",
       "WOOD 2 DRAWER CABINET WHITE FINISH      45\n",
       "LUNCH BAG RED RETROSPOT                 44\n",
       "JUMBO BAG RED RETROSPOT                 44\n",
       "WHITE HANGING HEART T-LIGHT HOLDER      42\n",
       "RED RETROSPOT CAKE STAND                42\n",
       "GREEN REGENCY TEACUP AND SAUCER         42\n",
       "SMALL GLASS HEART TRINKET POT           40\n",
       "SET OF 3 REGENCY CAKE TINS              37\n",
       "POPCORN HOLDER                          36\n",
       "SET OF TEA COFFEE SUGAR TINS PANTRY     35\n",
       "Name: Description, dtype: int64"
      ]
     },
     "execution_count": 20,
     "metadata": {},
     "output_type": "execute_result"
    }
   ],
   "source": [
    "can_top20_count = cancelled['Description'].value_counts().head(20)\n",
    "can_top20_count"
   ]
  },
  {
   "cell_type": "code",
   "execution_count": 21,
   "metadata": {
    "scrolled": true
   },
   "outputs": [
    {
     "data": {
      "text/html": [
       "<div>\n",
       "<style scoped>\n",
       "    .dataframe tbody tr th:only-of-type {\n",
       "        vertical-align: middle;\n",
       "    }\n",
       "\n",
       "    .dataframe tbody tr th {\n",
       "        vertical-align: top;\n",
       "    }\n",
       "\n",
       "    .dataframe thead th {\n",
       "        text-align: right;\n",
       "    }\n",
       "</style>\n",
       "<table border=\"1\" class=\"dataframe\">\n",
       "  <thead>\n",
       "    <tr style=\"text-align: right;\">\n",
       "      <th></th>\n",
       "      <th>Description</th>\n",
       "      <th>ValueCount</th>\n",
       "    </tr>\n",
       "  </thead>\n",
       "  <tbody>\n",
       "    <tr>\n",
       "      <td>0</td>\n",
       "      <td>Manual</td>\n",
       "      <td>244</td>\n",
       "    </tr>\n",
       "    <tr>\n",
       "      <td>1</td>\n",
       "      <td>REGENCY CAKESTAND 3 TIER</td>\n",
       "      <td>181</td>\n",
       "    </tr>\n",
       "    <tr>\n",
       "      <td>2</td>\n",
       "      <td>POSTAGE</td>\n",
       "      <td>126</td>\n",
       "    </tr>\n",
       "    <tr>\n",
       "      <td>3</td>\n",
       "      <td>JAM MAKING SET WITH JARS</td>\n",
       "      <td>87</td>\n",
       "    </tr>\n",
       "    <tr>\n",
       "      <td>4</td>\n",
       "      <td>Discount</td>\n",
       "      <td>77</td>\n",
       "    </tr>\n",
       "    <tr>\n",
       "      <td>5</td>\n",
       "      <td>SET OF 3 CAKE TINS PANTRY DESIGN</td>\n",
       "      <td>74</td>\n",
       "    </tr>\n",
       "    <tr>\n",
       "      <td>6</td>\n",
       "      <td>SAMPLES</td>\n",
       "      <td>61</td>\n",
       "    </tr>\n",
       "    <tr>\n",
       "      <td>7</td>\n",
       "      <td>STRAWBERRY CERAMIC TRINKET BOX</td>\n",
       "      <td>55</td>\n",
       "    </tr>\n",
       "    <tr>\n",
       "      <td>8</td>\n",
       "      <td>ROSES REGENCY TEACUP AND SAUCER</td>\n",
       "      <td>54</td>\n",
       "    </tr>\n",
       "    <tr>\n",
       "      <td>9</td>\n",
       "      <td>RECIPE BOX PANTRY YELLOW DESIGN</td>\n",
       "      <td>47</td>\n",
       "    </tr>\n",
       "    <tr>\n",
       "      <td>10</td>\n",
       "      <td>WOOD 2 DRAWER CABINET WHITE FINISH</td>\n",
       "      <td>45</td>\n",
       "    </tr>\n",
       "    <tr>\n",
       "      <td>11</td>\n",
       "      <td>LUNCH BAG RED RETROSPOT</td>\n",
       "      <td>44</td>\n",
       "    </tr>\n",
       "    <tr>\n",
       "      <td>12</td>\n",
       "      <td>JUMBO BAG RED RETROSPOT</td>\n",
       "      <td>44</td>\n",
       "    </tr>\n",
       "    <tr>\n",
       "      <td>13</td>\n",
       "      <td>WHITE HANGING HEART T-LIGHT HOLDER</td>\n",
       "      <td>42</td>\n",
       "    </tr>\n",
       "    <tr>\n",
       "      <td>14</td>\n",
       "      <td>RED RETROSPOT CAKE STAND</td>\n",
       "      <td>42</td>\n",
       "    </tr>\n",
       "    <tr>\n",
       "      <td>15</td>\n",
       "      <td>GREEN REGENCY TEACUP AND SAUCER</td>\n",
       "      <td>42</td>\n",
       "    </tr>\n",
       "    <tr>\n",
       "      <td>16</td>\n",
       "      <td>SMALL GLASS HEART TRINKET POT</td>\n",
       "      <td>40</td>\n",
       "    </tr>\n",
       "    <tr>\n",
       "      <td>17</td>\n",
       "      <td>SET OF 3 REGENCY CAKE TINS</td>\n",
       "      <td>37</td>\n",
       "    </tr>\n",
       "    <tr>\n",
       "      <td>18</td>\n",
       "      <td>POPCORN HOLDER</td>\n",
       "      <td>36</td>\n",
       "    </tr>\n",
       "    <tr>\n",
       "      <td>19</td>\n",
       "      <td>SET OF TEA COFFEE SUGAR TINS PANTRY</td>\n",
       "      <td>35</td>\n",
       "    </tr>\n",
       "  </tbody>\n",
       "</table>\n",
       "</div>"
      ],
      "text/plain": [
       "                            Description  ValueCount\n",
       "0                                Manual         244\n",
       "1              REGENCY CAKESTAND 3 TIER         181\n",
       "2                               POSTAGE         126\n",
       "3              JAM MAKING SET WITH JARS          87\n",
       "4                              Discount          77\n",
       "5     SET OF 3 CAKE TINS PANTRY DESIGN           74\n",
       "6                               SAMPLES          61\n",
       "7        STRAWBERRY CERAMIC TRINKET BOX          55\n",
       "8      ROSES REGENCY TEACUP AND SAUCER           54\n",
       "9       RECIPE BOX PANTRY YELLOW DESIGN          47\n",
       "10   WOOD 2 DRAWER CABINET WHITE FINISH          45\n",
       "11              LUNCH BAG RED RETROSPOT          44\n",
       "12              JUMBO BAG RED RETROSPOT          44\n",
       "13   WHITE HANGING HEART T-LIGHT HOLDER          42\n",
       "14             RED RETROSPOT CAKE STAND          42\n",
       "15      GREEN REGENCY TEACUP AND SAUCER          42\n",
       "16        SMALL GLASS HEART TRINKET POT          40\n",
       "17           SET OF 3 REGENCY CAKE TINS          37\n",
       "18                       POPCORN HOLDER          36\n",
       "19  SET OF TEA COFFEE SUGAR TINS PANTRY          35"
      ]
     },
     "execution_count": 21,
     "metadata": {},
     "output_type": "execute_result"
    }
   ],
   "source": [
    "can_top20 = pd.DataFrame(can_top20_count).reset_index()\n",
    "#renaming columns to better represent the description and their value counts\n",
    "can_top20 = can_top20.rename(columns={\"index\":\"Description\", \"Description\":\"ValueCount\"})\n",
    "can_top20"
   ]
  },
  {
   "cell_type": "code",
   "execution_count": 22,
   "metadata": {},
   "outputs": [
    {
     "data": {
      "image/png": "[encoded data removed]",
      "text/plain": [
       "<Figure size 864x432 with 1 Axes>"
      ]
     },
     "metadata": {
      "needs_background": "light"
     },
     "output_type": "display_data"
    }
   ],
   "source": [
    "_ = plt.figure(figsize=[12,6])\n",
    "_ = plt.bar(can_top20['Description'], height=can_top20['ValueCount'])\n",
    "_ = plt.xlabel('Product')\n",
    "_ = plt.xticks(rotation=90)\n",
    "_ = plt.ylabel('Number of cancellations')\n",
    "_ = plt.title('20 most frequently cancelled products, including manual cancellations, postage, discounts, and samples')\n",
    "plt.show()"
   ]
  },
  {
   "cell_type": "markdown",
   "metadata": {},
   "source": [
    "### Observations:\n",
    "- Notice that \"Manual\" is the most common...wonder if this is a manual return? \n",
    "- postage, discount, and samples high on list. \n",
    "    - Consider removing discount? \n",
    "    - Determine if certain products more frequently receive discounts?\n",
    "        - may not be able to determine as discounts are not tied to which product?\n",
    "    - Same line of thought with samples\n",
    "- question if postage is a product sold or if this represents postage paid out?\n",
    "- graph above represents products most frequently appearing on cancellation list. Does not account for numbers returned"
   ]
  },
  {
   "cell_type": "markdown",
   "metadata": {},
   "source": [
    "I looked to see if manual cancellation was more common during a given time of year. I pulled only the manually cancelled invoices and noted that the number of rows is consistent with the number of manual cancels from the top 20 list, so I feel confident that I grabbed them all"
   ]
  },
  {
   "cell_type": "code",
   "execution_count": 23,
   "metadata": {
    "scrolled": true
   },
   "outputs": [
    {
     "data": {
      "text/html": [
       "<div>\n",
       "<style scoped>\n",
       "    .dataframe tbody tr th:only-of-type {\n",
       "        vertical-align: middle;\n",
       "    }\n",
       "\n",
       "    .dataframe tbody tr th {\n",
       "        vertical-align: top;\n",
       "    }\n",
       "\n",
       "    .dataframe thead th {\n",
       "        text-align: right;\n",
       "    }\n",
       "</style>\n",
       "<table border=\"1\" class=\"dataframe\">\n",
       "  <thead>\n",
       "    <tr style=\"text-align: right;\">\n",
       "      <th></th>\n",
       "      <th>InvoiceNo</th>\n",
       "      <th>StockCode</th>\n",
       "      <th>Description</th>\n",
       "      <th>Quantity</th>\n",
       "      <th>InvoiceDate</th>\n",
       "      <th>UnitPrice</th>\n",
       "      <th>CustomerID</th>\n",
       "      <th>Country</th>\n",
       "      <th>Weekday</th>\n",
       "      <th>WeekdayNum</th>\n",
       "    </tr>\n",
       "  </thead>\n",
       "  <tbody>\n",
       "    <tr>\n",
       "      <td>174</td>\n",
       "      <td>C537610</td>\n",
       "      <td>M</td>\n",
       "      <td>Manual</td>\n",
       "      <td>-1</td>\n",
       "      <td>2010-12-07 13:23:00</td>\n",
       "      <td>631.31</td>\n",
       "      <td>NaN</td>\n",
       "      <td>United Kingdom</td>\n",
       "      <td>Tuesday</td>\n",
       "      <td>1</td>\n",
       "    </tr>\n",
       "    <tr>\n",
       "      <td>176</td>\n",
       "      <td>C537613</td>\n",
       "      <td>M</td>\n",
       "      <td>Manual</td>\n",
       "      <td>-1</td>\n",
       "      <td>2010-12-07 13:28:00</td>\n",
       "      <td>313.78</td>\n",
       "      <td>NaN</td>\n",
       "      <td>United Kingdom</td>\n",
       "      <td>Tuesday</td>\n",
       "      <td>1</td>\n",
       "    </tr>\n",
       "    <tr>\n",
       "      <td>325</td>\n",
       "      <td>C538124</td>\n",
       "      <td>M</td>\n",
       "      <td>Manual</td>\n",
       "      <td>-4</td>\n",
       "      <td>2010-12-09 15:43:00</td>\n",
       "      <td>0.50</td>\n",
       "      <td>15329.0</td>\n",
       "      <td>United Kingdom</td>\n",
       "      <td>Thursday</td>\n",
       "      <td>3</td>\n",
       "    </tr>\n",
       "    <tr>\n",
       "      <td>329</td>\n",
       "      <td>C538189</td>\n",
       "      <td>M</td>\n",
       "      <td>Manual</td>\n",
       "      <td>-1</td>\n",
       "      <td>2010-12-10 10:35:00</td>\n",
       "      <td>133.08</td>\n",
       "      <td>NaN</td>\n",
       "      <td>United Kingdom</td>\n",
       "      <td>Friday</td>\n",
       "      <td>4</td>\n",
       "    </tr>\n",
       "    <tr>\n",
       "      <td>429</td>\n",
       "      <td>C538681</td>\n",
       "      <td>M</td>\n",
       "      <td>Manual</td>\n",
       "      <td>-1</td>\n",
       "      <td>2010-12-13 17:12:00</td>\n",
       "      <td>316.30</td>\n",
       "      <td>NaN</td>\n",
       "      <td>United Kingdom</td>\n",
       "      <td>Monday</td>\n",
       "      <td>0</td>\n",
       "    </tr>\n",
       "    <tr>\n",
       "      <td>...</td>\n",
       "      <td>...</td>\n",
       "      <td>...</td>\n",
       "      <td>...</td>\n",
       "      <td>...</td>\n",
       "      <td>...</td>\n",
       "      <td>...</td>\n",
       "      <td>...</td>\n",
       "      <td>...</td>\n",
       "      <td>...</td>\n",
       "      <td>...</td>\n",
       "    </tr>\n",
       "    <tr>\n",
       "      <td>9033</td>\n",
       "      <td>C580263</td>\n",
       "      <td>M</td>\n",
       "      <td>Manual</td>\n",
       "      <td>-16</td>\n",
       "      <td>2011-12-02 12:43:00</td>\n",
       "      <td>0.29</td>\n",
       "      <td>12536.0</td>\n",
       "      <td>France</td>\n",
       "      <td>Friday</td>\n",
       "      <td>4</td>\n",
       "    </tr>\n",
       "    <tr>\n",
       "      <td>9057</td>\n",
       "      <td>C580510</td>\n",
       "      <td>M</td>\n",
       "      <td>Manual</td>\n",
       "      <td>-1</td>\n",
       "      <td>2011-12-04 13:48:00</td>\n",
       "      <td>1.25</td>\n",
       "      <td>14456.0</td>\n",
       "      <td>United Kingdom</td>\n",
       "      <td>Sunday</td>\n",
       "      <td>6</td>\n",
       "    </tr>\n",
       "    <tr>\n",
       "      <td>9185</td>\n",
       "      <td>C581009</td>\n",
       "      <td>M</td>\n",
       "      <td>Manual</td>\n",
       "      <td>-1</td>\n",
       "      <td>2011-12-07 09:15:00</td>\n",
       "      <td>125.00</td>\n",
       "      <td>16971.0</td>\n",
       "      <td>United Kingdom</td>\n",
       "      <td>Wednesday</td>\n",
       "      <td>2</td>\n",
       "    </tr>\n",
       "    <tr>\n",
       "      <td>9201</td>\n",
       "      <td>C581145</td>\n",
       "      <td>M</td>\n",
       "      <td>Manual</td>\n",
       "      <td>-1</td>\n",
       "      <td>2011-12-07 13:48:00</td>\n",
       "      <td>9.95</td>\n",
       "      <td>17490.0</td>\n",
       "      <td>United Kingdom</td>\n",
       "      <td>Wednesday</td>\n",
       "      <td>2</td>\n",
       "    </tr>\n",
       "    <tr>\n",
       "      <td>9284</td>\n",
       "      <td>C581499</td>\n",
       "      <td>M</td>\n",
       "      <td>Manual</td>\n",
       "      <td>-1</td>\n",
       "      <td>2011-12-09 10:28:00</td>\n",
       "      <td>224.69</td>\n",
       "      <td>15498.0</td>\n",
       "      <td>United Kingdom</td>\n",
       "      <td>Friday</td>\n",
       "      <td>4</td>\n",
       "    </tr>\n",
       "  </tbody>\n",
       "</table>\n",
       "<p>244 rows × 10 columns</p>\n",
       "</div>"
      ],
      "text/plain": [
       "     InvoiceNo StockCode Description  Quantity         InvoiceDate  UnitPrice  \\\n",
       "174    C537610         M      Manual        -1 2010-12-07 13:23:00     631.31   \n",
       "176    C537613         M      Manual        -1 2010-12-07 13:28:00     313.78   \n",
       "325    C538124         M      Manual        -4 2010-12-09 15:43:00       0.50   \n",
       "329    C538189         M      Manual        -1 2010-12-10 10:35:00     133.08   \n",
       "429    C538681         M      Manual        -1 2010-12-13 17:12:00     316.30   \n",
       "...        ...       ...         ...       ...                 ...        ...   \n",
       "9033   C580263         M      Manual       -16 2011-12-02 12:43:00       0.29   \n",
       "9057   C580510         M      Manual        -1 2011-12-04 13:48:00       1.25   \n",
       "9185   C581009         M      Manual        -1 2011-12-07 09:15:00     125.00   \n",
       "9201   C581145         M      Manual        -1 2011-12-07 13:48:00       9.95   \n",
       "9284   C581499         M      Manual        -1 2011-12-09 10:28:00     224.69   \n",
       "\n",
       "      CustomerID         Country    Weekday  WeekdayNum  \n",
       "174          NaN  United Kingdom    Tuesday           1  \n",
       "176          NaN  United Kingdom    Tuesday           1  \n",
       "325      15329.0  United Kingdom   Thursday           3  \n",
       "329          NaN  United Kingdom     Friday           4  \n",
       "429          NaN  United Kingdom     Monday           0  \n",
       "...          ...             ...        ...         ...  \n",
       "9033     12536.0          France     Friday           4  \n",
       "9057     14456.0  United Kingdom     Sunday           6  \n",
       "9185     16971.0  United Kingdom  Wednesday           2  \n",
       "9201     17490.0  United Kingdom  Wednesday           2  \n",
       "9284     15498.0  United Kingdom     Friday           4  \n",
       "\n",
       "[244 rows x 10 columns]"
      ]
     },
     "execution_count": 23,
     "metadata": {},
     "output_type": "execute_result"
    }
   ],
   "source": [
    "manual = cancelled.loc[cancelled['Description'].str.contains('Manual', na=False)]\n",
    "manual"
   ]
  },
  {
   "cell_type": "markdown",
   "metadata": {},
   "source": [
    "I plotted the quantity of manual cancellations versus time. This shows total number of products cancelled, but may be misleading, as a single order of high quantity could easily skew the data. "
   ]
  },
  {
   "cell_type": "code",
   "execution_count": 24,
   "metadata": {
    "scrolled": true
   },
   "outputs": [
    {
     "data": {
      "image/png": "[encoded data removed]",
      "text/plain": [
       "<Figure size 432x288 with 1 Axes>"
      ]
     },
     "metadata": {
      "needs_background": "light"
     },
     "output_type": "display_data"
    }
   ],
   "source": [
    "_ = plt.plot(manual['InvoiceDate'], manual['Quantity'])\n",
    "_ = plt.xlabel('Date')\n",
    "_ = plt.ylabel('Quantity')\n",
    "_ = plt.title('Number of Manual cancellations by Date')\n",
    "plt.show()"
   ]
  },
  {
   "cell_type": "markdown",
   "metadata": {},
   "source": [
    "I then looked at a histogram of cancellations, to get a better sense of when cancellations are most frequently occuring. I selected 52 bins as there are 52 weeks in the year "
   ]
  },
  {
   "cell_type": "code",
   "execution_count": 25,
   "metadata": {
    "scrolled": true
   },
   "outputs": [
    {
     "data": {
      "image/png": "[encoded data removed]",
      "text/plain": [
       "<Figure size 1296x432 with 1 Axes>"
      ]
     },
     "metadata": {
      "needs_background": "light"
     },
     "output_type": "display_data"
    }
   ],
   "source": [
    "_ = plt.figure(figsize=[18,6])\n",
    "_ = plt.hist(manual['InvoiceDate'], bins=52)\n",
    "_ = plt.xlabel('Date')\n",
    "_ = plt.ylabel('Number of manual cancellations')\n",
    "_ = plt.title('Number of Manual Cancellations by Date')\n",
    "plt.show()"
   ]
  },
  {
   "cell_type": "markdown",
   "metadata": {},
   "source": [
    "Again, I plotted this against holidays"
   ]
  },
  {
   "cell_type": "code",
   "execution_count": 26,
   "metadata": {
    "scrolled": false
   },
   "outputs": [
    {
     "data": {
      "image/png": "[encoded data removed]",
      "text/plain": [
       "<Figure size 1296x432 with 1 Axes>"
      ]
     },
     "metadata": {
      "needs_background": "light"
     },
     "output_type": "display_data"
    }
   ],
   "source": [
    "_ = plt.figure(figsize=[18,6])\n",
    "_ = plt.hist([manual['InvoiceDate'], holidays['Date']], bins=52, label=['Manually Cancelled Invoices', 'Holidays'])\n",
    "_ = plt.xlabel('Date')\n",
    "_ = plt.ylabel('Number of Manual cancellations/Number of holidays')\n",
    "_ = plt.title('Number of Manual Cancellations by Date (Blue) with Holidays overlaid (orange)')\n",
    "_ = plt.legend(loc='upper right')\n",
    "plt.show()"
   ]
  },
  {
   "cell_type": "markdown",
   "metadata": {},
   "source": [
    "Looks like two of the highest cancellation times coincide with holidays"
   ]
  },
  {
   "cell_type": "code",
   "execution_count": 27,
   "metadata": {},
   "outputs": [
    {
     "data": {
      "image/png": "[encoded data removed]",
      "text/plain": [
       "<Figure size 1296x432 with 1 Axes>"
      ]
     },
     "metadata": {
      "needs_background": "light"
     },
     "output_type": "display_data"
    }
   ],
   "source": [
    "min_date_march = np.datetime64('2011-03-25')\n",
    "max_date_april = np.datetime64('2011-04-09')\n",
    "_ = plt.figure(figsize=[18,6])\n",
    "_ = plt.hist(cancelled['InvoiceDate'], bins=60)\n",
    "_ = plt.xlabel('Date')\n",
    "_ = plt.ylabel('Number of cancellations')\n",
    "_ = plt.title('Number of Cancellations in Date Range 2011-09-25 to 2011-10-25')\n",
    "_ = plt.xlim(min_date_march, max_date_april)\n",
    "plt.show()"
   ]
  },
  {
   "cell_type": "code",
   "execution_count": 28,
   "metadata": {
    "scrolled": true
   },
   "outputs": [
    {
     "data": {
      "text/html": [
       "<div>\n",
       "<style scoped>\n",
       "    .dataframe tbody tr th:only-of-type {\n",
       "        vertical-align: middle;\n",
       "    }\n",
       "\n",
       "    .dataframe tbody tr th {\n",
       "        vertical-align: top;\n",
       "    }\n",
       "\n",
       "    .dataframe thead th {\n",
       "        text-align: right;\n",
       "    }\n",
       "</style>\n",
       "<table border=\"1\" class=\"dataframe\">\n",
       "  <thead>\n",
       "    <tr style=\"text-align: right;\">\n",
       "      <th></th>\n",
       "      <th>DayOfWeek</th>\n",
       "      <th>Name</th>\n",
       "      <th>Type</th>\n",
       "      <th>Details</th>\n",
       "    </tr>\n",
       "    <tr>\n",
       "      <th>Date</th>\n",
       "      <th></th>\n",
       "      <th></th>\n",
       "      <th></th>\n",
       "      <th></th>\n",
       "    </tr>\n",
       "  </thead>\n",
       "  <tbody>\n",
       "    <tr>\n",
       "      <td>2011-03-27</td>\n",
       "      <td>Sunday</td>\n",
       "      <td>Daylight Saving Time starts</td>\n",
       "      <td>Clock change/Daylight Saving Time</td>\n",
       "      <td>NaN</td>\n",
       "    </tr>\n",
       "    <tr>\n",
       "      <td>2011-04-03</td>\n",
       "      <td>Sunday</td>\n",
       "      <td>Mothering Sunday</td>\n",
       "      <td>Observance</td>\n",
       "      <td>NaN</td>\n",
       "    </tr>\n",
       "  </tbody>\n",
       "</table>\n",
       "</div>"
      ],
      "text/plain": [
       "           DayOfWeek                         Name  \\\n",
       "Date                                                \n",
       "2011-03-27    Sunday  Daylight Saving Time starts   \n",
       "2011-04-03    Sunday             Mothering Sunday   \n",
       "\n",
       "                                         Type Details  \n",
       "Date                                                   \n",
       "2011-03-27  Clock change/Daylight Saving Time     NaN  \n",
       "2011-04-03                         Observance     NaN  "
      ]
     },
     "execution_count": 28,
     "metadata": {},
     "output_type": "execute_result"
    }
   ],
   "source": [
    "holidays_by_date = holidays.set_index(['Date'])\n",
    "holidays_by_date.loc['2011-03-25':'2011-04-09']"
   ]
  },
  {
   "cell_type": "markdown",
   "metadata": {},
   "source": [
    "a quick google search suggests that Mothering Sunday is not the same as mother's day and is a Christian holiday. We know from the looking at the manual cancellations that there is not a holiday of note in the November time-frame"
   ]
  },
  {
   "cell_type": "markdown",
   "metadata": {},
   "source": [
    "If we assume that \"manual\" is an override that doesn't differentiate into individual products, that samples shouldn't be counted, and that discounts and postage are not to be included, then the top 20 most cancelled products looks more like this:"
   ]
  },
  {
   "cell_type": "code",
   "execution_count": 29,
   "metadata": {},
   "outputs": [
    {
     "data": {
      "text/html": [
       "<div>\n",
       "<style scoped>\n",
       "    .dataframe tbody tr th:only-of-type {\n",
       "        vertical-align: middle;\n",
       "    }\n",
       "\n",
       "    .dataframe tbody tr th {\n",
       "        vertical-align: top;\n",
       "    }\n",
       "\n",
       "    .dataframe thead th {\n",
       "        text-align: right;\n",
       "    }\n",
       "</style>\n",
       "<table border=\"1\" class=\"dataframe\">\n",
       "  <thead>\n",
       "    <tr style=\"text-align: right;\">\n",
       "      <th></th>\n",
       "      <th>Description</th>\n",
       "      <th>ValueCount</th>\n",
       "    </tr>\n",
       "  </thead>\n",
       "  <tbody>\n",
       "    <tr>\n",
       "      <td>0</td>\n",
       "      <td>REGENCY CAKESTAND 3 TIER</td>\n",
       "      <td>181</td>\n",
       "    </tr>\n",
       "    <tr>\n",
       "      <td>1</td>\n",
       "      <td>JAM MAKING SET WITH JARS</td>\n",
       "      <td>87</td>\n",
       "    </tr>\n",
       "    <tr>\n",
       "      <td>2</td>\n",
       "      <td>SET OF 3 CAKE TINS PANTRY DESIGN</td>\n",
       "      <td>74</td>\n",
       "    </tr>\n",
       "    <tr>\n",
       "      <td>3</td>\n",
       "      <td>STRAWBERRY CERAMIC TRINKET BOX</td>\n",
       "      <td>55</td>\n",
       "    </tr>\n",
       "    <tr>\n",
       "      <td>4</td>\n",
       "      <td>ROSES REGENCY TEACUP AND SAUCER</td>\n",
       "      <td>54</td>\n",
       "    </tr>\n",
       "    <tr>\n",
       "      <td>5</td>\n",
       "      <td>RECIPE BOX PANTRY YELLOW DESIGN</td>\n",
       "      <td>47</td>\n",
       "    </tr>\n",
       "    <tr>\n",
       "      <td>6</td>\n",
       "      <td>WOOD 2 DRAWER CABINET WHITE FINISH</td>\n",
       "      <td>45</td>\n",
       "    </tr>\n",
       "    <tr>\n",
       "      <td>7</td>\n",
       "      <td>LUNCH BAG RED RETROSPOT</td>\n",
       "      <td>44</td>\n",
       "    </tr>\n",
       "    <tr>\n",
       "      <td>8</td>\n",
       "      <td>JUMBO BAG RED RETROSPOT</td>\n",
       "      <td>44</td>\n",
       "    </tr>\n",
       "    <tr>\n",
       "      <td>9</td>\n",
       "      <td>WHITE HANGING HEART T-LIGHT HOLDER</td>\n",
       "      <td>42</td>\n",
       "    </tr>\n",
       "    <tr>\n",
       "      <td>10</td>\n",
       "      <td>RED RETROSPOT CAKE STAND</td>\n",
       "      <td>42</td>\n",
       "    </tr>\n",
       "    <tr>\n",
       "      <td>11</td>\n",
       "      <td>GREEN REGENCY TEACUP AND SAUCER</td>\n",
       "      <td>42</td>\n",
       "    </tr>\n",
       "    <tr>\n",
       "      <td>12</td>\n",
       "      <td>SMALL GLASS HEART TRINKET POT</td>\n",
       "      <td>40</td>\n",
       "    </tr>\n",
       "    <tr>\n",
       "      <td>13</td>\n",
       "      <td>SET OF 3 REGENCY CAKE TINS</td>\n",
       "      <td>37</td>\n",
       "    </tr>\n",
       "    <tr>\n",
       "      <td>14</td>\n",
       "      <td>POPCORN HOLDER</td>\n",
       "      <td>36</td>\n",
       "    </tr>\n",
       "    <tr>\n",
       "      <td>15</td>\n",
       "      <td>SET OF TEA COFFEE SUGAR TINS PANTRY</td>\n",
       "      <td>35</td>\n",
       "    </tr>\n",
       "    <tr>\n",
       "      <td>16</td>\n",
       "      <td>PINK REGENCY TEACUP AND SAUCER</td>\n",
       "      <td>35</td>\n",
       "    </tr>\n",
       "    <tr>\n",
       "      <td>17</td>\n",
       "      <td>SILVER HANGING T-LIGHT HOLDER</td>\n",
       "      <td>35</td>\n",
       "    </tr>\n",
       "    <tr>\n",
       "      <td>18</td>\n",
       "      <td>CLASSIC GLASS COOKIE JAR</td>\n",
       "      <td>34</td>\n",
       "    </tr>\n",
       "    <tr>\n",
       "      <td>19</td>\n",
       "      <td>SET/5 RED RETROSPOT LID GLASS BOWLS</td>\n",
       "      <td>34</td>\n",
       "    </tr>\n",
       "  </tbody>\n",
       "</table>\n",
       "</div>"
      ],
      "text/plain": [
       "                            Description  ValueCount\n",
       "0              REGENCY CAKESTAND 3 TIER         181\n",
       "1              JAM MAKING SET WITH JARS          87\n",
       "2     SET OF 3 CAKE TINS PANTRY DESIGN           74\n",
       "3        STRAWBERRY CERAMIC TRINKET BOX          55\n",
       "4      ROSES REGENCY TEACUP AND SAUCER           54\n",
       "5       RECIPE BOX PANTRY YELLOW DESIGN          47\n",
       "6    WOOD 2 DRAWER CABINET WHITE FINISH          45\n",
       "7               LUNCH BAG RED RETROSPOT          44\n",
       "8               JUMBO BAG RED RETROSPOT          44\n",
       "9    WHITE HANGING HEART T-LIGHT HOLDER          42\n",
       "10             RED RETROSPOT CAKE STAND          42\n",
       "11      GREEN REGENCY TEACUP AND SAUCER          42\n",
       "12        SMALL GLASS HEART TRINKET POT          40\n",
       "13           SET OF 3 REGENCY CAKE TINS          37\n",
       "14                       POPCORN HOLDER          36\n",
       "15  SET OF TEA COFFEE SUGAR TINS PANTRY          35\n",
       "16       PINK REGENCY TEACUP AND SAUCER          35\n",
       "17        SILVER HANGING T-LIGHT HOLDER          35\n",
       "18             CLASSIC GLASS COOKIE JAR          34\n",
       "19  SET/5 RED RETROSPOT LID GLASS BOWLS          34"
      ]
     },
     "execution_count": 29,
     "metadata": {},
     "output_type": "execute_result"
    }
   ],
   "source": [
    "#adding additional rows\n",
    "#decided to add 30 rows to account for ties: can_prod_count for cancelled products\n",
    "can_prod_count = cancelled['Description'].value_counts().head(30)\n",
    "can_prod = pd.DataFrame(can_prod_count).reset_index()\n",
    "#renaming columns to better represent the description and their value counts\n",
    "can_prod = can_prod.rename(columns={\"index\":\"Description\", \"Description\":\"ValueCount\"})\n",
    "#dropping rows for manual, postage, discount, samples and re-setting the index\n",
    "can_prod = can_prod.drop([0,2,4,6]).reset_index(drop=True)\n",
    "#selecting top 20 from new list\n",
    "#I did look at the top 25 to make sure my final item was not in a tie with the next item. It is not, so I selected only the top 20 products again\n",
    "can_prod = can_prod.head(20)\n",
    "can_prod"
   ]
  },
  {
   "cell_type": "markdown",
   "metadata": {},
   "source": [
    "Now, a hopefully more accurate picture of the top 20 most cancelled products would look like this:"
   ]
  },
  {
   "cell_type": "code",
   "execution_count": 30,
   "metadata": {},
   "outputs": [
    {
     "data": {
      "image/png": "[encoded data removed]",
      "text/plain": [
       "<Figure size 864x432 with 1 Axes>"
      ]
     },
     "metadata": {
      "needs_background": "light"
     },
     "output_type": "display_data"
    }
   ],
   "source": [
    "_ = plt.figure(figsize=[12,6])\n",
    "_ = plt.bar(can_prod['Description'], height=can_prod['ValueCount'])\n",
    "_ = plt.xlabel('Product')\n",
    "_ = plt.xticks(rotation=90)\n",
    "_ = plt.ylabel('Number of cancellations')\n",
    "_ = plt.title('20 most frequently cancelled products')\n",
    "plt.show()"
   ]
  },
  {
   "cell_type": "markdown",
   "metadata": {},
   "source": [
    "I wanted to look at if there is a customer that cancels orders more frequently. I realized that I was using similar code, so I wrote a function to pull the top n values of a given column"
   ]
  },
  {
   "cell_type": "code",
   "execution_count": 31,
   "metadata": {
    "scrolled": true
   },
   "outputs": [
    {
     "data": {
      "text/html": [
       "<div>\n",
       "<style scoped>\n",
       "    .dataframe tbody tr th:only-of-type {\n",
       "        vertical-align: middle;\n",
       "    }\n",
       "\n",
       "    .dataframe tbody tr th {\n",
       "        vertical-align: top;\n",
       "    }\n",
       "\n",
       "    .dataframe thead th {\n",
       "        text-align: right;\n",
       "    }\n",
       "</style>\n",
       "<table border=\"1\" class=\"dataframe\">\n",
       "  <thead>\n",
       "    <tr style=\"text-align: right;\">\n",
       "      <th></th>\n",
       "      <th>CustomerID</th>\n",
       "      <th>ValueCount</th>\n",
       "    </tr>\n",
       "  </thead>\n",
       "  <tbody>\n",
       "    <tr>\n",
       "      <td>0</td>\n",
       "      <td>14911.0</td>\n",
       "      <td>226</td>\n",
       "    </tr>\n",
       "    <tr>\n",
       "      <td>1</td>\n",
       "      <td>17841.0</td>\n",
       "      <td>136</td>\n",
       "    </tr>\n",
       "    <tr>\n",
       "      <td>2</td>\n",
       "      <td>17511.0</td>\n",
       "      <td>113</td>\n",
       "    </tr>\n",
       "    <tr>\n",
       "      <td>3</td>\n",
       "      <td>15311.0</td>\n",
       "      <td>112</td>\n",
       "    </tr>\n",
       "    <tr>\n",
       "      <td>4</td>\n",
       "      <td>12607.0</td>\n",
       "      <td>101</td>\n",
       "    </tr>\n",
       "    <tr>\n",
       "      <td>5</td>\n",
       "      <td>14410.0</td>\n",
       "      <td>93</td>\n",
       "    </tr>\n",
       "    <tr>\n",
       "      <td>6</td>\n",
       "      <td>13798.0</td>\n",
       "      <td>90</td>\n",
       "    </tr>\n",
       "    <tr>\n",
       "      <td>7</td>\n",
       "      <td>14606.0</td>\n",
       "      <td>82</td>\n",
       "    </tr>\n",
       "    <tr>\n",
       "      <td>8</td>\n",
       "      <td>13113.0</td>\n",
       "      <td>79</td>\n",
       "    </tr>\n",
       "    <tr>\n",
       "      <td>9</td>\n",
       "      <td>12471.0</td>\n",
       "      <td>71</td>\n",
       "    </tr>\n",
       "  </tbody>\n",
       "</table>\n",
       "</div>"
      ],
      "text/plain": [
       "   CustomerID  ValueCount\n",
       "0     14911.0         226\n",
       "1     17841.0         136\n",
       "2     17511.0         113\n",
       "3     15311.0         112\n",
       "4     12607.0         101\n",
       "5     14410.0          93\n",
       "6     13798.0          90\n",
       "7     14606.0          82\n",
       "8     13113.0          79\n",
       "9     12471.0          71"
      ]
     },
     "execution_count": 31,
     "metadata": {},
     "output_type": "execute_result"
    }
   ],
   "source": [
    "can_cust = get_top_nums(cancelled, 'CustomerID', 10)\n",
    "can_cust"
   ]
  },
  {
   "cell_type": "markdown",
   "metadata": {},
   "source": [
    "Looks like customer 14911 has almost 100 more cancelled orders than the next most common customer. I dug in and looked at what they were ordering, to see if there is a pattern"
   ]
  },
  {
   "cell_type": "code",
   "execution_count": 32,
   "metadata": {
    "scrolled": true
   },
   "outputs": [
    {
     "data": {
      "text/html": [
       "<div>\n",
       "<style scoped>\n",
       "    .dataframe tbody tr th:only-of-type {\n",
       "        vertical-align: middle;\n",
       "    }\n",
       "\n",
       "    .dataframe tbody tr th {\n",
       "        vertical-align: top;\n",
       "    }\n",
       "\n",
       "    .dataframe thead th {\n",
       "        text-align: right;\n",
       "    }\n",
       "</style>\n",
       "<table border=\"1\" class=\"dataframe\">\n",
       "  <thead>\n",
       "    <tr style=\"text-align: right;\">\n",
       "      <th></th>\n",
       "      <th>InvoiceNo</th>\n",
       "      <th>StockCode</th>\n",
       "      <th>Description</th>\n",
       "      <th>Quantity</th>\n",
       "      <th>InvoiceDate</th>\n",
       "      <th>UnitPrice</th>\n",
       "      <th>CustomerID</th>\n",
       "      <th>Country</th>\n",
       "      <th>Weekday</th>\n",
       "      <th>WeekdayNum</th>\n",
       "    </tr>\n",
       "  </thead>\n",
       "  <tbody>\n",
       "    <tr>\n",
       "      <td>556</td>\n",
       "      <td>C539221</td>\n",
       "      <td>90185B</td>\n",
       "      <td>AMETHYST DIAMANTE EXPANDABLE RING</td>\n",
       "      <td>-3</td>\n",
       "      <td>2010-12-16 12:56:00</td>\n",
       "      <td>4.25</td>\n",
       "      <td>14911.0</td>\n",
       "      <td>EIRE</td>\n",
       "      <td>Thursday</td>\n",
       "      <td>3</td>\n",
       "    </tr>\n",
       "    <tr>\n",
       "      <td>557</td>\n",
       "      <td>C539221</td>\n",
       "      <td>90185C</td>\n",
       "      <td>BLACK DIAMANTE EXPANDABLE RING</td>\n",
       "      <td>-4</td>\n",
       "      <td>2010-12-16 12:56:00</td>\n",
       "      <td>4.25</td>\n",
       "      <td>14911.0</td>\n",
       "      <td>EIRE</td>\n",
       "      <td>Thursday</td>\n",
       "      <td>3</td>\n",
       "    </tr>\n",
       "    <tr>\n",
       "      <td>558</td>\n",
       "      <td>C539221</td>\n",
       "      <td>22592</td>\n",
       "      <td>CARDHOLDER HOLLY WREATH METAL</td>\n",
       "      <td>-1</td>\n",
       "      <td>2010-12-16 12:56:00</td>\n",
       "      <td>3.75</td>\n",
       "      <td>14911.0</td>\n",
       "      <td>EIRE</td>\n",
       "      <td>Thursday</td>\n",
       "      <td>3</td>\n",
       "    </tr>\n",
       "    <tr>\n",
       "      <td>559</td>\n",
       "      <td>C539221</td>\n",
       "      <td>22941</td>\n",
       "      <td>CHRISTMAS LIGHTS 10 REINDEER</td>\n",
       "      <td>-12</td>\n",
       "      <td>2010-12-16 12:56:00</td>\n",
       "      <td>8.50</td>\n",
       "      <td>14911.0</td>\n",
       "      <td>EIRE</td>\n",
       "      <td>Thursday</td>\n",
       "      <td>3</td>\n",
       "    </tr>\n",
       "    <tr>\n",
       "      <td>560</td>\n",
       "      <td>C539221</td>\n",
       "      <td>22942</td>\n",
       "      <td>CHRISTMAS LIGHTS 10 SANTAS</td>\n",
       "      <td>-10</td>\n",
       "      <td>2010-12-16 12:56:00</td>\n",
       "      <td>8.50</td>\n",
       "      <td>14911.0</td>\n",
       "      <td>EIRE</td>\n",
       "      <td>Thursday</td>\n",
       "      <td>3</td>\n",
       "    </tr>\n",
       "    <tr>\n",
       "      <td>...</td>\n",
       "      <td>...</td>\n",
       "      <td>...</td>\n",
       "      <td>...</td>\n",
       "      <td>...</td>\n",
       "      <td>...</td>\n",
       "      <td>...</td>\n",
       "      <td>...</td>\n",
       "      <td>...</td>\n",
       "      <td>...</td>\n",
       "      <td>...</td>\n",
       "    </tr>\n",
       "    <tr>\n",
       "      <td>8542</td>\n",
       "      <td>C577388</td>\n",
       "      <td>23454</td>\n",
       "      <td>THREE MINI HANGING FRAMES</td>\n",
       "      <td>-2</td>\n",
       "      <td>2011-11-18 16:58:00</td>\n",
       "      <td>4.15</td>\n",
       "      <td>14911.0</td>\n",
       "      <td>EIRE</td>\n",
       "      <td>Friday</td>\n",
       "      <td>4</td>\n",
       "    </tr>\n",
       "    <tr>\n",
       "      <td>8543</td>\n",
       "      <td>C577388</td>\n",
       "      <td>21429</td>\n",
       "      <td>RED GINGHAM ROSE JEWELLERY BOX</td>\n",
       "      <td>-2</td>\n",
       "      <td>2011-11-18 16:58:00</td>\n",
       "      <td>1.95</td>\n",
       "      <td>14911.0</td>\n",
       "      <td>EIRE</td>\n",
       "      <td>Friday</td>\n",
       "      <td>4</td>\n",
       "    </tr>\n",
       "    <tr>\n",
       "      <td>8544</td>\n",
       "      <td>C577388</td>\n",
       "      <td>23118</td>\n",
       "      <td>PARISIENNE JEWELLERY DRAWER</td>\n",
       "      <td>-1</td>\n",
       "      <td>2011-11-18 16:58:00</td>\n",
       "      <td>7.50</td>\n",
       "      <td>14911.0</td>\n",
       "      <td>EIRE</td>\n",
       "      <td>Friday</td>\n",
       "      <td>4</td>\n",
       "    </tr>\n",
       "    <tr>\n",
       "      <td>8629</td>\n",
       "      <td>C577828</td>\n",
       "      <td>23318</td>\n",
       "      <td>BOX OF 6 MINI VINTAGE CRACKERS</td>\n",
       "      <td>-11</td>\n",
       "      <td>2011-11-22 09:53:00</td>\n",
       "      <td>2.08</td>\n",
       "      <td>14911.0</td>\n",
       "      <td>EIRE</td>\n",
       "      <td>Tuesday</td>\n",
       "      <td>1</td>\n",
       "    </tr>\n",
       "    <tr>\n",
       "      <td>9009</td>\n",
       "      <td>C580056</td>\n",
       "      <td>22467</td>\n",
       "      <td>GUMBALL COAT RACK</td>\n",
       "      <td>-1</td>\n",
       "      <td>2011-12-01 13:12:00</td>\n",
       "      <td>2.55</td>\n",
       "      <td>14911.0</td>\n",
       "      <td>EIRE</td>\n",
       "      <td>Thursday</td>\n",
       "      <td>3</td>\n",
       "    </tr>\n",
       "  </tbody>\n",
       "</table>\n",
       "<p>226 rows × 10 columns</p>\n",
       "</div>"
      ],
      "text/plain": [
       "     InvoiceNo StockCode                        Description  Quantity  \\\n",
       "556    C539221    90185B  AMETHYST DIAMANTE EXPANDABLE RING        -3   \n",
       "557    C539221    90185C     BLACK DIAMANTE EXPANDABLE RING        -4   \n",
       "558    C539221     22592      CARDHOLDER HOLLY WREATH METAL        -1   \n",
       "559    C539221     22941       CHRISTMAS LIGHTS 10 REINDEER       -12   \n",
       "560    C539221     22942        CHRISTMAS LIGHTS 10 SANTAS        -10   \n",
       "...        ...       ...                                ...       ...   \n",
       "8542   C577388     23454          THREE MINI HANGING FRAMES        -2   \n",
       "8543   C577388     21429     RED GINGHAM ROSE JEWELLERY BOX        -2   \n",
       "8544   C577388     23118       PARISIENNE JEWELLERY DRAWER         -1   \n",
       "8629   C577828     23318     BOX OF 6 MINI VINTAGE CRACKERS       -11   \n",
       "9009   C580056     22467                  GUMBALL COAT RACK        -1   \n",
       "\n",
       "             InvoiceDate  UnitPrice  CustomerID Country   Weekday  WeekdayNum  \n",
       "556  2010-12-16 12:56:00       4.25     14911.0    EIRE  Thursday           3  \n",
       "557  2010-12-16 12:56:00       4.25     14911.0    EIRE  Thursday           3  \n",
       "558  2010-12-16 12:56:00       3.75     14911.0    EIRE  Thursday           3  \n",
       "559  2010-12-16 12:56:00       8.50     14911.0    EIRE  Thursday           3  \n",
       "560  2010-12-16 12:56:00       8.50     14911.0    EIRE  Thursday           3  \n",
       "...                  ...        ...         ...     ...       ...         ...  \n",
       "8542 2011-11-18 16:58:00       4.15     14911.0    EIRE    Friday           4  \n",
       "8543 2011-11-18 16:58:00       1.95     14911.0    EIRE    Friday           4  \n",
       "8544 2011-11-18 16:58:00       7.50     14911.0    EIRE    Friday           4  \n",
       "8629 2011-11-22 09:53:00       2.08     14911.0    EIRE   Tuesday           1  \n",
       "9009 2011-12-01 13:12:00       2.55     14911.0    EIRE  Thursday           3  \n",
       "\n",
       "[226 rows x 10 columns]"
      ]
     },
     "execution_count": 32,
     "metadata": {},
     "output_type": "execute_result"
    }
   ],
   "source": [
    "can_cust_1 = cancelled.loc[cancelled['CustomerID']==14911.0]\n",
    "can_cust_1"
   ]
  },
  {
   "cell_type": "markdown",
   "metadata": {},
   "source": [
    "I also looked at the countries that cancel most frequently. Since it is a UK-based company, having the most cancellations in-country makes sense."
   ]
  },
  {
   "cell_type": "code",
   "execution_count": 33,
   "metadata": {
    "scrolled": true
   },
   "outputs": [
    {
     "data": {
      "text/html": [
       "<div>\n",
       "<style scoped>\n",
       "    .dataframe tbody tr th:only-of-type {\n",
       "        vertical-align: middle;\n",
       "    }\n",
       "\n",
       "    .dataframe tbody tr th {\n",
       "        vertical-align: top;\n",
       "    }\n",
       "\n",
       "    .dataframe thead th {\n",
       "        text-align: right;\n",
       "    }\n",
       "</style>\n",
       "<table border=\"1\" class=\"dataframe\">\n",
       "  <thead>\n",
       "    <tr style=\"text-align: right;\">\n",
       "      <th></th>\n",
       "      <th>Country</th>\n",
       "      <th>ValueCount</th>\n",
       "    </tr>\n",
       "  </thead>\n",
       "  <tbody>\n",
       "    <tr>\n",
       "      <td>0</td>\n",
       "      <td>United Kingdom</td>\n",
       "      <td>7856</td>\n",
       "    </tr>\n",
       "    <tr>\n",
       "      <td>1</td>\n",
       "      <td>Germany</td>\n",
       "      <td>453</td>\n",
       "    </tr>\n",
       "    <tr>\n",
       "      <td>2</td>\n",
       "      <td>EIRE</td>\n",
       "      <td>302</td>\n",
       "    </tr>\n",
       "    <tr>\n",
       "      <td>3</td>\n",
       "      <td>France</td>\n",
       "      <td>149</td>\n",
       "    </tr>\n",
       "    <tr>\n",
       "      <td>4</td>\n",
       "      <td>USA</td>\n",
       "      <td>112</td>\n",
       "    </tr>\n",
       "  </tbody>\n",
       "</table>\n",
       "</div>"
      ],
      "text/plain": [
       "          Country  ValueCount\n",
       "0  United Kingdom        7856\n",
       "1         Germany         453\n",
       "2            EIRE         302\n",
       "3          France         149\n",
       "4             USA         112"
      ]
     },
     "execution_count": 33,
     "metadata": {},
     "output_type": "execute_result"
    }
   ],
   "source": [
    "can_country = get_top_nums(cancelled, 'Country', 5)\n",
    "can_country"
   ]
  },
  {
   "cell_type": "code",
   "execution_count": 34,
   "metadata": {
    "scrolled": true
   },
   "outputs": [
    {
     "data": {
      "image/png": "[encoded data removed]",
      "text/plain": [
       "<Figure size 432x288 with 1 Axes>"
      ]
     },
     "metadata": {},
     "output_type": "display_data"
    }
   ],
   "source": [
    "#pie chart of country data above\n",
    "_ = plt.pie(can_country['ValueCount'], labels=['UK', 'Germany', 'EIRE', 'France', 'USA'])\n",
    "_ = plt.title('Top 5 Countries of Cancelled Products')\n",
    "_ = plt.legend()\n",
    "plt.show()"
   ]
  },
  {
   "cell_type": "markdown",
   "metadata": {},
   "source": [
    "## Purchased products analysis"
   ]
  },
  {
   "cell_type": "markdown",
   "metadata": {},
   "source": [
    "In addition to cancelled orders, I wanted to look at which products are most and least commonly purchased. I started by removing the cancelled products from the retail dataframe to avoid including these products. "
   ]
  },
  {
   "cell_type": "code",
   "execution_count": 35,
   "metadata": {},
   "outputs": [
    {
     "data": {
      "text/html": [
       "<div>\n",
       "<style scoped>\n",
       "    .dataframe tbody tr th:only-of-type {\n",
       "        vertical-align: middle;\n",
       "    }\n",
       "\n",
       "    .dataframe tbody tr th {\n",
       "        vertical-align: top;\n",
       "    }\n",
       "\n",
       "    .dataframe thead th {\n",
       "        text-align: right;\n",
       "    }\n",
       "</style>\n",
       "<table border=\"1\" class=\"dataframe\">\n",
       "  <thead>\n",
       "    <tr style=\"text-align: right;\">\n",
       "      <th></th>\n",
       "      <th>InvoiceNo</th>\n",
       "      <th>StockCode</th>\n",
       "      <th>Description</th>\n",
       "      <th>Quantity</th>\n",
       "      <th>InvoiceDate</th>\n",
       "      <th>UnitPrice</th>\n",
       "      <th>CustomerID</th>\n",
       "      <th>Country</th>\n",
       "    </tr>\n",
       "  </thead>\n",
       "  <tbody>\n",
       "    <tr>\n",
       "      <td>0</td>\n",
       "      <td>536365</td>\n",
       "      <td>85123A</td>\n",
       "      <td>WHITE HANGING HEART T-LIGHT HOLDER</td>\n",
       "      <td>6</td>\n",
       "      <td>2010-12-01 08:26:00</td>\n",
       "      <td>2.55</td>\n",
       "      <td>17850.0</td>\n",
       "      <td>United Kingdom</td>\n",
       "    </tr>\n",
       "    <tr>\n",
       "      <td>1</td>\n",
       "      <td>536365</td>\n",
       "      <td>71053</td>\n",
       "      <td>WHITE METAL LANTERN</td>\n",
       "      <td>6</td>\n",
       "      <td>2010-12-01 08:26:00</td>\n",
       "      <td>3.39</td>\n",
       "      <td>17850.0</td>\n",
       "      <td>United Kingdom</td>\n",
       "    </tr>\n",
       "    <tr>\n",
       "      <td>2</td>\n",
       "      <td>536365</td>\n",
       "      <td>84406B</td>\n",
       "      <td>CREAM CUPID HEARTS COAT HANGER</td>\n",
       "      <td>8</td>\n",
       "      <td>2010-12-01 08:26:00</td>\n",
       "      <td>2.75</td>\n",
       "      <td>17850.0</td>\n",
       "      <td>United Kingdom</td>\n",
       "    </tr>\n",
       "    <tr>\n",
       "      <td>3</td>\n",
       "      <td>536365</td>\n",
       "      <td>84029G</td>\n",
       "      <td>KNITTED UNION FLAG HOT WATER BOTTLE</td>\n",
       "      <td>6</td>\n",
       "      <td>2010-12-01 08:26:00</td>\n",
       "      <td>3.39</td>\n",
       "      <td>17850.0</td>\n",
       "      <td>United Kingdom</td>\n",
       "    </tr>\n",
       "    <tr>\n",
       "      <td>4</td>\n",
       "      <td>536365</td>\n",
       "      <td>84029E</td>\n",
       "      <td>RED WOOLLY HOTTIE WHITE HEART.</td>\n",
       "      <td>6</td>\n",
       "      <td>2010-12-01 08:26:00</td>\n",
       "      <td>3.39</td>\n",
       "      <td>17850.0</td>\n",
       "      <td>United Kingdom</td>\n",
       "    </tr>\n",
       "  </tbody>\n",
       "</table>\n",
       "</div>"
      ],
      "text/plain": [
       "  InvoiceNo StockCode                          Description  Quantity  \\\n",
       "0    536365    85123A   WHITE HANGING HEART T-LIGHT HOLDER         6   \n",
       "1    536365     71053                  WHITE METAL LANTERN         6   \n",
       "2    536365    84406B       CREAM CUPID HEARTS COAT HANGER         8   \n",
       "3    536365    84029G  KNITTED UNION FLAG HOT WATER BOTTLE         6   \n",
       "4    536365    84029E       RED WOOLLY HOTTIE WHITE HEART.         6   \n",
       "\n",
       "          InvoiceDate  UnitPrice  CustomerID         Country  \n",
       "0 2010-12-01 08:26:00       2.55     17850.0  United Kingdom  \n",
       "1 2010-12-01 08:26:00       3.39     17850.0  United Kingdom  \n",
       "2 2010-12-01 08:26:00       2.75     17850.0  United Kingdom  \n",
       "3 2010-12-01 08:26:00       3.39     17850.0  United Kingdom  \n",
       "4 2010-12-01 08:26:00       3.39     17850.0  United Kingdom  "
      ]
     },
     "execution_count": 35,
     "metadata": {},
     "output_type": "execute_result"
    }
   ],
   "source": [
    "purchased = retail.drop(retail[retail['InvoiceNo'].str.contains('C', na=False)].index)\n",
    "purchased.head()"
   ]
  },
  {
   "cell_type": "code",
   "execution_count": 36,
   "metadata": {
    "scrolled": true
   },
   "outputs": [
    {
     "name": "stdout",
     "output_type": "stream",
     "text": [
      "<class 'pandas.core.frame.DataFrame'>\n",
      "Int64Index: 532621 entries, 0 to 541908\n",
      "Data columns (total 8 columns):\n",
      "InvoiceNo      532621 non-null object\n",
      "StockCode      532621 non-null object\n",
      "Description    531167 non-null object\n",
      "Quantity       532621 non-null int64\n",
      "InvoiceDate    532621 non-null datetime64[ns]\n",
      "UnitPrice      532621 non-null float64\n",
      "CustomerID     397924 non-null float64\n",
      "Country        532621 non-null object\n",
      "dtypes: datetime64[ns](1), float64(2), int64(1), object(4)\n",
      "memory usage: 36.6+ MB\n"
     ]
    }
   ],
   "source": [
    "purchased.info()"
   ]
  },
  {
   "cell_type": "markdown",
   "metadata": {},
   "source": [
    "quick math from the original retail dataframe number of entries minus cancelled dataframe number of entries shows me that this dataframe has the expected number of entries. "
   ]
  },
  {
   "cell_type": "code",
   "execution_count": 37,
   "metadata": {
    "scrolled": true
   },
   "outputs": [
    {
     "data": {
      "image/png": "[encoded data removed]",
      "text/plain": [
       "<Figure size 432x288 with 1 Axes>"
      ]
     },
     "metadata": {
      "needs_background": "light"
     },
     "output_type": "display_data"
    }
   ],
   "source": [
    "#I looked at the purchased data to see if the prices of products was in a normal distribution\n",
    "_ = plt.hist(purchased['UnitPrice'], bins=15)\n",
    "_ = plt.xlabel(\"Unit Price\")\n",
    "_ = plt.ylabel(\"PDF\")\n",
    "_ = plt.title(\"Density of Unit Price\")\n",
    "plt.show()"
   ]
  },
  {
   "cell_type": "markdown",
   "metadata": {},
   "source": [
    "I noticed in the above that the unit price seemed to skew negative, even though I should have removed all the negative numbers (which would have corresponded to cancelled invoices). I looked for unit prices below 0 and found the following:"
   ]
  },
  {
   "cell_type": "code",
   "execution_count": 38,
   "metadata": {
    "scrolled": true
   },
   "outputs": [
    {
     "data": {
      "text/html": [
       "<div>\n",
       "<style scoped>\n",
       "    .dataframe tbody tr th:only-of-type {\n",
       "        vertical-align: middle;\n",
       "    }\n",
       "\n",
       "    .dataframe tbody tr th {\n",
       "        vertical-align: top;\n",
       "    }\n",
       "\n",
       "    .dataframe thead th {\n",
       "        text-align: right;\n",
       "    }\n",
       "</style>\n",
       "<table border=\"1\" class=\"dataframe\">\n",
       "  <thead>\n",
       "    <tr style=\"text-align: right;\">\n",
       "      <th></th>\n",
       "      <th>InvoiceNo</th>\n",
       "      <th>StockCode</th>\n",
       "      <th>Description</th>\n",
       "      <th>Quantity</th>\n",
       "      <th>InvoiceDate</th>\n",
       "      <th>UnitPrice</th>\n",
       "      <th>CustomerID</th>\n",
       "      <th>Country</th>\n",
       "    </tr>\n",
       "  </thead>\n",
       "  <tbody>\n",
       "    <tr>\n",
       "      <td>299983</td>\n",
       "      <td>A563186</td>\n",
       "      <td>B</td>\n",
       "      <td>Adjust bad debt</td>\n",
       "      <td>1</td>\n",
       "      <td>2011-08-12 14:51:00</td>\n",
       "      <td>-11062.06</td>\n",
       "      <td>NaN</td>\n",
       "      <td>United Kingdom</td>\n",
       "    </tr>\n",
       "    <tr>\n",
       "      <td>299984</td>\n",
       "      <td>A563187</td>\n",
       "      <td>B</td>\n",
       "      <td>Adjust bad debt</td>\n",
       "      <td>1</td>\n",
       "      <td>2011-08-12 14:52:00</td>\n",
       "      <td>-11062.06</td>\n",
       "      <td>NaN</td>\n",
       "      <td>United Kingdom</td>\n",
       "    </tr>\n",
       "  </tbody>\n",
       "</table>\n",
       "</div>"
      ],
      "text/plain": [
       "       InvoiceNo StockCode      Description  Quantity         InvoiceDate  \\\n",
       "299983   A563186         B  Adjust bad debt         1 2011-08-12 14:51:00   \n",
       "299984   A563187         B  Adjust bad debt         1 2011-08-12 14:52:00   \n",
       "\n",
       "        UnitPrice  CustomerID         Country  \n",
       "299983  -11062.06         NaN  United Kingdom  \n",
       "299984  -11062.06         NaN  United Kingdom  "
      ]
     },
     "execution_count": 38,
     "metadata": {},
     "output_type": "execute_result"
    }
   ],
   "source": [
    "negative = purchased.loc[purchased['UnitPrice'] < 0]\n",
    "negative"
   ]
  },
  {
   "cell_type": "markdown",
   "metadata": {},
   "source": [
    "Difficult to say what this product description is referring to. This would definitely be something I would ask the client about to better understand what this is referring to and how it relates to the work I am attempting. \n",
    "\n",
    "I wanted to make sure these were outliers, so I created a box plot and calculated the z-scores. "
   ]
  },
  {
   "cell_type": "code",
   "execution_count": 39,
   "metadata": {},
   "outputs": [
    {
     "data": {
      "image/png": "[encoded data removed]",
      "text/plain": [
       "<Figure size 432x288 with 1 Axes>"
      ]
     },
     "metadata": {
      "needs_background": "light"
     },
     "output_type": "display_data"
    }
   ],
   "source": [
    "_ = sns.boxplot(x=purchased['UnitPrice'])\n",
    "_ = plt.title('Box plot of Unit Prices to Detect Outlier(s)')\n",
    "plt.show()"
   ]
  },
  {
   "cell_type": "markdown",
   "metadata": {},
   "source": [
    "There certainly seems to be an outlier at around -10,000, which I suspected. There also seem to be at least 3 points on the high end that may be outliers as well. I looked for these and found that there is a similar charge that would negate the \"adjust bad credit\" on the negative end as well as an Amazon fee and postage which don't really correspond to product prices."
   ]
  },
  {
   "cell_type": "code",
   "execution_count": 40,
   "metadata": {
    "scrolled": true
   },
   "outputs": [
    {
     "data": {
      "text/html": [
       "<div>\n",
       "<style scoped>\n",
       "    .dataframe tbody tr th:only-of-type {\n",
       "        vertical-align: middle;\n",
       "    }\n",
       "\n",
       "    .dataframe tbody tr th {\n",
       "        vertical-align: top;\n",
       "    }\n",
       "\n",
       "    .dataframe thead th {\n",
       "        text-align: right;\n",
       "    }\n",
       "</style>\n",
       "<table border=\"1\" class=\"dataframe\">\n",
       "  <thead>\n",
       "    <tr style=\"text-align: right;\">\n",
       "      <th></th>\n",
       "      <th>InvoiceNo</th>\n",
       "      <th>StockCode</th>\n",
       "      <th>Description</th>\n",
       "      <th>Quantity</th>\n",
       "      <th>InvoiceDate</th>\n",
       "      <th>UnitPrice</th>\n",
       "      <th>CustomerID</th>\n",
       "      <th>Country</th>\n",
       "    </tr>\n",
       "  </thead>\n",
       "  <tbody>\n",
       "    <tr>\n",
       "      <td>15017</td>\n",
       "      <td>537632</td>\n",
       "      <td>AMAZONFEE</td>\n",
       "      <td>AMAZON FEE</td>\n",
       "      <td>1</td>\n",
       "      <td>2010-12-07 15:08:00</td>\n",
       "      <td>13541.33</td>\n",
       "      <td>NaN</td>\n",
       "      <td>United Kingdom</td>\n",
       "    </tr>\n",
       "    <tr>\n",
       "      <td>173382</td>\n",
       "      <td>551697</td>\n",
       "      <td>POST</td>\n",
       "      <td>POSTAGE</td>\n",
       "      <td>1</td>\n",
       "      <td>2011-05-03 13:46:00</td>\n",
       "      <td>8142.75</td>\n",
       "      <td>16029.0</td>\n",
       "      <td>United Kingdom</td>\n",
       "    </tr>\n",
       "    <tr>\n",
       "      <td>299982</td>\n",
       "      <td>A563185</td>\n",
       "      <td>B</td>\n",
       "      <td>Adjust bad debt</td>\n",
       "      <td>1</td>\n",
       "      <td>2011-08-12 14:50:00</td>\n",
       "      <td>11062.06</td>\n",
       "      <td>NaN</td>\n",
       "      <td>United Kingdom</td>\n",
       "    </tr>\n",
       "  </tbody>\n",
       "</table>\n",
       "</div>"
      ],
      "text/plain": [
       "       InvoiceNo  StockCode      Description  Quantity         InvoiceDate  \\\n",
       "15017     537632  AMAZONFEE       AMAZON FEE         1 2010-12-07 15:08:00   \n",
       "173382    551697       POST          POSTAGE         1 2011-05-03 13:46:00   \n",
       "299982   A563185          B  Adjust bad debt         1 2011-08-12 14:50:00   \n",
       "\n",
       "        UnitPrice  CustomerID         Country  \n",
       "15017    13541.33         NaN  United Kingdom  \n",
       "173382    8142.75     16029.0  United Kingdom  \n",
       "299982   11062.06         NaN  United Kingdom  "
      ]
     },
     "execution_count": 40,
     "metadata": {},
     "output_type": "execute_result"
    }
   ],
   "source": [
    "high = purchased.loc[purchased['UnitPrice'] > 5000]\n",
    "high"
   ]
  },
  {
   "cell_type": "markdown",
   "metadata": {},
   "source": [
    "Looking at which data points have a z-score of greater than -3 or 3 (which would indicate outliers), we get the following:"
   ]
  },
  {
   "cell_type": "code",
   "execution_count": 41,
   "metadata": {
    "scrolled": true
   },
   "outputs": [
    {
     "name": "stdout",
     "output_type": "stream",
     "text": [
      "(array([   237,   1802,   3015,   4919,   5370,   5605,   6085,  10710,\n",
      "        11279,  13775,  14238,  14839,  15472,  15701,  15807,  15931,\n",
      "        16053,  16595,  18324,  19193,  19194,  21045,  21621,  21734,\n",
      "        21860,  22788,  24536,  24771,  26857,  27506,  30352,  30405,\n",
      "        30471,  31936,  34206,  35050,  35566,  35865,  36471,  37645,\n",
      "        38129,  38655,  39086,  39205,  39602,  39680,  39790,  39883,\n",
      "        39957,  39998,  40151,  40203,  40739,  41331,  42246,  43342,\n",
      "        44378,  45526,  46917,  47543,  49823,  50487,  50706,  50958,\n",
      "        52197,  52610,  53653,  53857,  54588,  54836,  55495,  56064,\n",
      "        56108,  56856,  59341,  59531,  59909,  60243,  61399,  61572,\n",
      "        61858,  62923,  64336,  64789,  65540,  65578,  65847,  66350,\n",
      "        67350,  67702,  68103,  68765,  69016,  70120,  71270,  71316,\n",
      "        72022,  72170,  73674,  74859,  75010,  75075,  75577,  77502,\n",
      "        78157,  78158,  78263,  78563,  79484,  80230,  80272,  80512,\n",
      "        80874,  80921,  81269,  82219,  82238,  82495,  82592,  83102,\n",
      "        83416,  83564,  83673,  84395,  84464,  84530,  84776,  85173,\n",
      "        85433,  85921,  86017,  86203,  87228,  88364,  90640,  90857,\n",
      "        90905,  90996,  91061,  91064,  91126,  91192,  92293,  93252,\n",
      "        94869,  95146,  95450,  96671,  96972,  97406,  97501,  97581,\n",
      "        97638,  98433,  98709,  99417,  99778, 100708, 101877, 102497,\n",
      "       103040, 103227, 103389, 104146, 104353, 104488, 104489, 104490,\n",
      "       104560, 104699, 104913, 105923, 106922, 107964, 108830, 109205,\n",
      "       109233, 109287, 109356, 109421, 110368, 110650, 110700, 112090,\n",
      "       112315, 112711, 113692, 114752, 114906, 114907, 115732, 116612,\n",
      "       117455, 118023, 118154, 118170, 118306, 118840, 120123, 120481,\n",
      "       120672, 120870, 120923, 121164, 121762, 122098, 122143, 122208,\n",
      "       123076, 125581, 125778, 125939, 127331, 127578, 127623, 127652,\n",
      "       128956, 131230, 131581, 131878, 133088, 133763, 134073, 134229,\n",
      "       135125, 135194, 135215, 135289, 135337, 135372, 135951, 136213,\n",
      "       137644, 138330, 138673, 138747, 138906, 139057, 139306, 140368,\n",
      "       140437, 141462, 142169, 142170, 142171, 142172, 142173, 142794,\n",
      "       143048, 143158, 144251, 145324, 146895, 147854, 148104, 148239,\n",
      "       150537, 153842, 154068, 154501, 154571, 154621, 154689, 154747,\n",
      "       154807, 154981, 155036, 156766, 157518, 159256, 159387, 160222,\n",
      "       160419, 161159, 161370, 163048, 163627, 164221, 164383, 164671,\n",
      "       164769, 164811, 164953, 166219, 167654, 168045, 168046, 168335,\n",
      "       168703, 170180, 170475, 170577, 175401, 178330, 178464, 178674,\n",
      "       178815, 179185, 179329, 179801, 180165, 180179, 180269, 180426,\n",
      "       180503, 180554, 180625, 180708, 180760, 180819, 180870, 180904,\n",
      "       180964, 181011, 181049, 181063, 183022, 184199, 184698, 184891,\n",
      "       186321, 188165, 188476, 189761, 190078, 190158, 190270, 190306,\n",
      "       190652, 190756, 192013, 192486, 192540, 192593, 193596, 195554,\n",
      "       197145, 197860, 197923, 197943, 197944, 198098, 198340, 198341,\n",
      "       199408, 199590, 199797, 201181, 201481, 202036, 203115, 203179,\n",
      "       203232, 205026, 205237, 206106, 206316, 207131, 207821, 209063,\n",
      "       211657, 213403, 213471, 213669, 214818, 215021, 215099, 215164,\n",
      "       215440, 215478, 215993, 216318, 217105, 217359, 218457, 218666,\n",
      "       218667, 218867, 221189, 222730, 222829, 223162, 224440, 225809,\n",
      "       228485, 228702, 228703, 229448, 229657, 229707, 229928, 229932,\n",
      "       231424, 232091, 234018, 234168, 235058, 235395, 235550, 236461,\n",
      "       236497, 236588, 237425, 237981, 238457, 239457, 241024, 241195,\n",
      "       243295, 243611, 243712, 243788, 244727, 244996, 246168, 246401,\n",
      "       246469, 247256, 248729, 248779, 250398, 250635, 251689, 251761,\n",
      "       251822, 251872, 252294, 254835, 255469, 256226, 256275, 257092,\n",
      "       257671, 258033, 259613, 260166, 260606, 262514, 262573, 262631,\n",
      "       263196, 263498, 263526, 263555, 263556, 263600, 263787, 264224,\n",
      "       264314, 264315, 266277, 266278, 267626, 267879, 268128, 268170,\n",
      "       269825, 273294, 273403, 273668, 273826, 274871, 276205, 277327,\n",
      "       278905, 280479, 281137, 282587, 284222, 285507, 285740, 287239,\n",
      "       289139, 289433, 290037, 291697, 291903, 292033, 292288, 293848,\n",
      "       294523, 294524, 294525, 294780, 294876, 298024, 303801, 305456,\n",
      "       306926, 307900, 307946, 310805, 311011, 311188, 311329, 311568,\n",
      "       311718, 311943, 312239, 312402, 312715, 312980, 313189, 313251,\n",
      "       313916, 313966, 314623, 316672, 316883, 317014, 317426, 318001,\n",
      "       318462, 321256, 323224, 323430, 323693, 324406, 324676, 326225,\n",
      "       327158, 327948, 331471, 332950, 333718, 335299, 335745, 336843,\n",
      "       337148, 337339, 337984, 338858, 341716, 343163, 343902, 344306,\n",
      "       345108, 345342, 345536, 345810, 346096, 346340, 348467, 350185,\n",
      "       350589, 351504, 351764, 355110, 355670, 357115, 359402, 359647,\n",
      "       359910, 361624, 363854, 364172, 366111, 367628, 367806, 367879,\n",
      "       367970, 368434, 370376, 370518, 371558, 373008, 375544, 378173,\n",
      "       380030, 382137, 382847, 385006, 385255, 387012, 387297, 388001,\n",
      "       388961, 389361, 390737, 391278, 392909, 393196, 393197, 394328,\n",
      "       395476, 397905, 398377, 398899, 398900, 399105, 400653, 406607,\n",
      "       407740, 408100, 408387, 408740, 409020, 410394, 411500, 412774,\n",
      "       414562, 414586, 415488, 415958, 421037, 421603, 421737, 422264,\n",
      "       423496, 423656, 427515, 427965, 429845, 433329, 435536, 437674,\n",
      "       439412, 441648, 442512, 442921, 445142, 447021, 447368, 447369,\n",
      "       449379, 451459, 452911, 453268, 457071, 458150, 459061, 459662,\n",
      "       462022, 462709, 462934, 463081, 465067, 466175, 469682, 470611,\n",
      "       473212, 475923, 476994, 478540, 482357, 482816, 484324, 486027,\n",
      "       487826, 488446, 492958, 493258, 493891, 499119, 499624, 500532,\n",
      "       502258, 503144, 503816, 505684, 506033, 506405, 506948, 509700,\n",
      "       510493, 513032, 515829, 516071, 516951, 518998, 519703, 520393,\n",
      "       522927, 524303, 525789, 526834, 527620, 528019, 530106, 531624,\n",
      "       532256], dtype=int64),)\n",
      "Outliers:  532621\n"
     ]
    }
   ],
   "source": [
    "z = np.abs(stats.zscore(purchased['UnitPrice']))\n",
    "print(np.where(z > 3))\n",
    "print(\"Outliers: \", len(z))"
   ]
  },
  {
   "cell_type": "markdown",
   "metadata": {},
   "source": [
    "I do notice that this suggests every data point in the purchased data frame is an outlier, which doesn't seem particularly accurate. \n",
    "\n",
    "This will be addressed after I remove the stock codes that don't correspond to products."
   ]
  },
  {
   "cell_type": "markdown",
   "metadata": {},
   "source": [
    "We learned beforehand that postage, Amazon fees, and adjust bad debt were included in the purchased dataframe and perhaps should not have been. I looked at these items (commented out for space saving) and removed them from my data frame to get a better look at the products only.\n",
    "\n",
    "I later found that dotcom postage and \"Manual\" was also included in this list and added it to the rows that I would drop."
   ]
  },
  {
   "cell_type": "code",
   "execution_count": 42,
   "metadata": {},
   "outputs": [],
   "source": [
    "#purchased.loc[purchased['StockCode'] == 'POST']"
   ]
  },
  {
   "cell_type": "code",
   "execution_count": 43,
   "metadata": {},
   "outputs": [],
   "source": [
    "#purchased.loc[purchased['StockCode'] == 'AMAZONFEE']"
   ]
  },
  {
   "cell_type": "code",
   "execution_count": 44,
   "metadata": {},
   "outputs": [],
   "source": [
    "#purchased.loc[purchased['StockCode'] == 'B']"
   ]
  },
  {
   "cell_type": "code",
   "execution_count": 45,
   "metadata": {
    "scrolled": true
   },
   "outputs": [],
   "source": [
    "purchased.drop(purchased[purchased['StockCode'] == 'POST'].index, inplace=True)\n",
    "purchased.drop(purchased[purchased['StockCode'] == 'AMAZONFEE'].index, inplace=True)\n",
    "purchased.drop(purchased[purchased['StockCode'] == 'B'].index, inplace=True)\n",
    "purchased.drop(purchased[purchased['StockCode'] == 'DOT'].index, inplace=True)\n",
    "purchased.drop(purchased[purchased['StockCode'] == 'M'].index, inplace=True)"
   ]
  },
  {
   "cell_type": "code",
   "execution_count": 46,
   "metadata": {},
   "outputs": [
    {
     "name": "stdout",
     "output_type": "stream",
     "text": [
      "(array([   151,    165,    236, ..., 530028, 530076, 530082], dtype=int64),)\n",
      "New outliers:  530450\n"
     ]
    }
   ],
   "source": [
    "#new outlier calculation\n",
    "new_outlier = np.abs(stats.zscore(purchased['UnitPrice']))\n",
    "print(np.where(new_outlier > 3))\n",
    "print(\"New outliers: \", len(new_outlier))"
   ]
  },
  {
   "cell_type": "markdown",
   "metadata": {},
   "source": [
    " This removed around 2200 data points, but will likely be closer to giving information only on the products, rather than other fees or whatever is occuring with the bad debt adjustment. I then created a box plot as before as well as a box plot using a log scale to attempt to better visualize the data and potential outliers. "
   ]
  },
  {
   "cell_type": "code",
   "execution_count": 47,
   "metadata": {},
   "outputs": [
    {
     "data": {
      "image/png": "[encoded data removed]",
      "text/plain": [
       "<Figure size 432x288 with 1 Axes>"
      ]
     },
     "metadata": {
      "needs_background": "light"
     },
     "output_type": "display_data"
    }
   ],
   "source": [
    "_ = sns.boxplot(x=purchased['UnitPrice'])\n",
    "_ = plt.title('Box plot of Unit Prices to Detect Outlier(s) after removing Postage, \\nAmazon Fees, dotcom fees, manual entries, and debt adjustment')\n",
    "plt.show()"
   ]
  },
  {
   "cell_type": "code",
   "execution_count": 48,
   "metadata": {},
   "outputs": [
    {
     "data": {
      "image/png": "[encoded data removed]",
      "text/plain": [
       "<Figure size 432x288 with 1 Axes>"
      ]
     },
     "metadata": {
      "needs_background": "light"
     },
     "output_type": "display_data"
    }
   ],
   "source": [
    "f, ax = plt.subplots()\n",
    "sns.boxplot(x=purchased['UnitPrice'])\n",
    "ax.set_xscale('log')\n",
    "plt.xlabel('UnitPrice (log scale)')\n",
    "plt.title('Box plot of Unit Prices to Detect Outlier(s) using log scale')\n",
    "plt.show()"
   ]
  },
  {
   "cell_type": "markdown",
   "metadata": {},
   "source": [
    "From this graph, it would appear that statistically, most of the proucts lie in the 0-10 Pound range. If we only looked at these products, we would still have over 500,000 products in our dataframe"
   ]
  },
  {
   "cell_type": "code",
   "execution_count": 49,
   "metadata": {
    "scrolled": true
   },
   "outputs": [
    {
     "name": "stdout",
     "output_type": "stream",
     "text": [
      "<class 'pandas.core.frame.DataFrame'>\n",
      "Int64Index: 508389 entries, 0 to 541908\n",
      "Data columns (total 8 columns):\n",
      "InvoiceNo      508389 non-null object\n",
      "StockCode      508389 non-null object\n",
      "Description    506940 non-null object\n",
      "Quantity       508389 non-null int64\n",
      "InvoiceDate    508389 non-null datetime64[ns]\n",
      "UnitPrice      508389 non-null float64\n",
      "CustomerID     386824 non-null float64\n",
      "Country        508389 non-null object\n",
      "dtypes: datetime64[ns](1), float64(2), int64(1), object(4)\n",
      "memory usage: 34.9+ MB\n"
     ]
    }
   ],
   "source": [
    "normal = purchased.loc[purchased['UnitPrice'] < 10]\n",
    "normal.info()"
   ]
  },
  {
   "cell_type": "markdown",
   "metadata": {},
   "source": [
    "A histogram of this data (those unit prices less than 10) yields the following plot, which is still right tailed. This means that my data will likely be skewed high, even after taking into account and removing some of the higher items, like postage, fees, debt adjustments, and manual entries.  "
   ]
  },
  {
   "cell_type": "code",
   "execution_count": 50,
   "metadata": {},
   "outputs": [
    {
     "data": {
      "image/png": "[encoded data removed]",
      "text/plain": [
       "<Figure size 432x288 with 1 Axes>"
      ]
     },
     "metadata": {
      "needs_background": "light"
     },
     "output_type": "display_data"
    }
   ],
   "source": [
    "_ = plt.hist(normal['UnitPrice'])\n",
    "_ = plt.xlabel(\"Unit Price\")\n",
    "_ = plt.ylabel(\"PDF\")\n",
    "_ = plt.title(\"Density of Unit Price excluding outliers\")\n",
    "plt.show()"
   ]
  },
  {
   "cell_type": "markdown",
   "metadata": {},
   "source": [
    "I looked next at the day of the week that products were purchased on. This is similar to the work I did for cancelled products above. "
   ]
  },
  {
   "cell_type": "markdown",
   "metadata": {},
   "source": [
    "Again, there were no purchased products on Saturday. Perhaps the store is closed on Saturdays?"
   ]
  },
  {
   "cell_type": "code",
   "execution_count": 51,
   "metadata": {},
   "outputs": [
    {
     "name": "stderr",
     "output_type": "stream",
     "text": [
      "C:\\Users\\brittany\\Anaconda3\\lib\\site-packages\\ipykernel_launcher.py:1: SettingWithCopyWarning: \n",
      "A value is trying to be set on a copy of a slice from a DataFrame.\n",
      "Try using .loc[row_indexer,col_indexer] = value instead\n",
      "\n",
      "See the caveats in the documentation: http://pandas.pydata.org/pandas-docs/stable/user_guide/indexing.html#returning-a-view-versus-a-copy\n",
      "  \"\"\"Entry point for launching an IPython kernel.\n",
      "C:\\Users\\brittany\\Anaconda3\\lib\\site-packages\\ipykernel_launcher.py:4: SettingWithCopyWarning: \n",
      "A value is trying to be set on a copy of a slice from a DataFrame.\n",
      "Try using .loc[row_indexer,col_indexer] = value instead\n",
      "\n",
      "See the caveats in the documentation: http://pandas.pydata.org/pandas-docs/stable/user_guide/indexing.html#returning-a-view-versus-a-copy\n",
      "  after removing the cwd from sys.path.\n"
     ]
    },
    {
     "data": {
      "image/png": "[encoded data removed]",
      "text/plain": [
       "<Figure size 648x360 with 1 Axes>"
      ]
     },
     "metadata": {
      "needs_background": "light"
     },
     "output_type": "display_data"
    }
   ],
   "source": [
    "normal['Weekday'] = normal['InvoiceDate'].dt.weekday_name\n",
    "\n",
    "#returns an integer of day of week: Monday=0 to Sunday=6\n",
    "normal['WeekdayNum'] = normal['InvoiceDate'].dt.weekday\n",
    "\n",
    "weekday_int = [0,1,2,3,4,5,6,7]\n",
    "_ = plt.figure(figsize=[9,5])\n",
    "_ = plt.hist(normal['WeekdayNum'], bins=weekday_int, align='left', rwidth=0.9)\n",
    "_ = plt.xticks(ticks=weekday_int, labels=days_of_week)\n",
    "_ = plt.xlabel('Day of Week')\n",
    "_ = plt.ylabel('Number of Purchases')\n",
    "_ = plt.title('Number of Purchases by Day of Week')\n",
    "plt.show()"
   ]
  },
  {
   "cell_type": "code",
   "execution_count": 52,
   "metadata": {
    "scrolled": true
   },
   "outputs": [
    {
     "data": {
      "text/html": [
       "<div>\n",
       "<style scoped>\n",
       "    .dataframe tbody tr th:only-of-type {\n",
       "        vertical-align: middle;\n",
       "    }\n",
       "\n",
       "    .dataframe tbody tr th {\n",
       "        vertical-align: top;\n",
       "    }\n",
       "\n",
       "    .dataframe thead th {\n",
       "        text-align: right;\n",
       "    }\n",
       "</style>\n",
       "<table border=\"1\" class=\"dataframe\">\n",
       "  <thead>\n",
       "    <tr style=\"text-align: right;\">\n",
       "      <th></th>\n",
       "      <th>InvoiceNo</th>\n",
       "      <th>StockCode</th>\n",
       "      <th>Description</th>\n",
       "      <th>Quantity</th>\n",
       "      <th>InvoiceDate</th>\n",
       "      <th>UnitPrice</th>\n",
       "      <th>CustomerID</th>\n",
       "      <th>Country</th>\n",
       "      <th>Weekday</th>\n",
       "      <th>WeekdayNum</th>\n",
       "    </tr>\n",
       "  </thead>\n",
       "  <tbody>\n",
       "  </tbody>\n",
       "</table>\n",
       "</div>"
      ],
      "text/plain": [
       "Empty DataFrame\n",
       "Columns: [InvoiceNo, StockCode, Description, Quantity, InvoiceDate, UnitPrice, CustomerID, Country, Weekday, WeekdayNum]\n",
       "Index: []"
      ]
     },
     "execution_count": 52,
     "metadata": {},
     "output_type": "execute_result"
    }
   ],
   "source": [
    "normal.loc[normal['Weekday'] =='Saturday']"
   ]
  },
  {
   "cell_type": "code",
   "execution_count": 53,
   "metadata": {},
   "outputs": [],
   "source": [
    "monday = normal['Weekday'] =='Monday'\n",
    "tuesday = normal['Weekday'] =='Tuesday'\n",
    "wednesday = normal['Weekday'] =='Wednesday'\n",
    "thursday = normal['Weekday'] =='Thursday'\n",
    "friday = normal['Weekday'] =='Friday'\n",
    "saturday = normal['Weekday'] =='Saturday'\n",
    "sunday = normal['Weekday'] =='Sunday'"
   ]
  },
  {
   "cell_type": "code",
   "execution_count": 54,
   "metadata": {
    "scrolled": true
   },
   "outputs": [
    {
     "name": "stdout",
     "output_type": "stream",
     "text": [
      "ANOVA for all days of week for purchased products: F_onewayResult(statistic=19356.842919512223, pvalue=0.0)\n"
     ]
    }
   ],
   "source": [
    "print('ANOVA for all days of week for purchased products:', stats.f_oneway(monday, tuesday, wednesday, thursday, friday, saturday, sunday))"
   ]
  },
  {
   "cell_type": "markdown",
   "metadata": {},
   "source": [
    "The ANOVA suggests that there the variance we see is not due to chance. "
   ]
  },
  {
   "cell_type": "markdown",
   "metadata": {},
   "source": [
    "For an informative look, I also looked at the top 20 purchased products and plotted those"
   ]
  },
  {
   "cell_type": "code",
   "execution_count": 55,
   "metadata": {},
   "outputs": [
    {
     "data": {
      "text/html": [
       "<div>\n",
       "<style scoped>\n",
       "    .dataframe tbody tr th:only-of-type {\n",
       "        vertical-align: middle;\n",
       "    }\n",
       "\n",
       "    .dataframe tbody tr th {\n",
       "        vertical-align: top;\n",
       "    }\n",
       "\n",
       "    .dataframe thead th {\n",
       "        text-align: right;\n",
       "    }\n",
       "</style>\n",
       "<table border=\"1\" class=\"dataframe\">\n",
       "  <thead>\n",
       "    <tr style=\"text-align: right;\">\n",
       "      <th></th>\n",
       "      <th>Description</th>\n",
       "      <th>ValueCount</th>\n",
       "    </tr>\n",
       "  </thead>\n",
       "  <tbody>\n",
       "    <tr>\n",
       "      <td>0</td>\n",
       "      <td>WHITE HANGING HEART T-LIGHT HOLDER</td>\n",
       "      <td>2327</td>\n",
       "    </tr>\n",
       "    <tr>\n",
       "      <td>1</td>\n",
       "      <td>JUMBO BAG RED RETROSPOT</td>\n",
       "      <td>2115</td>\n",
       "    </tr>\n",
       "    <tr>\n",
       "      <td>2</td>\n",
       "      <td>LUNCH BAG RED RETROSPOT</td>\n",
       "      <td>1594</td>\n",
       "    </tr>\n",
       "    <tr>\n",
       "      <td>3</td>\n",
       "      <td>ASSORTED COLOUR BIRD ORNAMENT</td>\n",
       "      <td>1489</td>\n",
       "    </tr>\n",
       "    <tr>\n",
       "      <td>4</td>\n",
       "      <td>PARTY BUNTING</td>\n",
       "      <td>1466</td>\n",
       "    </tr>\n",
       "    <tr>\n",
       "      <td>5</td>\n",
       "      <td>PACK OF 72 RETROSPOT CAKE CASES</td>\n",
       "      <td>1370</td>\n",
       "    </tr>\n",
       "    <tr>\n",
       "      <td>6</td>\n",
       "      <td>LUNCH BAG  BLACK SKULL.</td>\n",
       "      <td>1328</td>\n",
       "    </tr>\n",
       "    <tr>\n",
       "      <td>7</td>\n",
       "      <td>NATURAL SLATE HEART CHALKBOARD</td>\n",
       "      <td>1263</td>\n",
       "    </tr>\n",
       "    <tr>\n",
       "      <td>8</td>\n",
       "      <td>JUMBO BAG PINK POLKADOT</td>\n",
       "      <td>1238</td>\n",
       "    </tr>\n",
       "    <tr>\n",
       "      <td>9</td>\n",
       "      <td>HEART OF WICKER SMALL</td>\n",
       "      <td>1226</td>\n",
       "    </tr>\n",
       "    <tr>\n",
       "      <td>10</td>\n",
       "      <td>PAPER CHAIN KIT 50'S CHRISTMAS</td>\n",
       "      <td>1200</td>\n",
       "    </tr>\n",
       "    <tr>\n",
       "      <td>11</td>\n",
       "      <td>JUMBO STORAGE BAG SUKI</td>\n",
       "      <td>1197</td>\n",
       "    </tr>\n",
       "    <tr>\n",
       "      <td>12</td>\n",
       "      <td>JUMBO SHOPPER VINTAGE RED PAISLEY</td>\n",
       "      <td>1190</td>\n",
       "    </tr>\n",
       "    <tr>\n",
       "      <td>13</td>\n",
       "      <td>SET OF 3 CAKE TINS PANTRY DESIGN</td>\n",
       "      <td>1182</td>\n",
       "    </tr>\n",
       "    <tr>\n",
       "      <td>14</td>\n",
       "      <td>LUNCH BAG SPACEBOY DESIGN</td>\n",
       "      <td>1179</td>\n",
       "    </tr>\n",
       "    <tr>\n",
       "      <td>15</td>\n",
       "      <td>LUNCH BAG CARS BLUE</td>\n",
       "      <td>1174</td>\n",
       "    </tr>\n",
       "    <tr>\n",
       "      <td>16</td>\n",
       "      <td>JAM MAKING SET PRINTED</td>\n",
       "      <td>1169</td>\n",
       "    </tr>\n",
       "    <tr>\n",
       "      <td>17</td>\n",
       "      <td>JAM MAKING SET WITH JARS</td>\n",
       "      <td>1142</td>\n",
       "    </tr>\n",
       "    <tr>\n",
       "      <td>18</td>\n",
       "      <td>RECIPE BOX PANTRY YELLOW DESIGN</td>\n",
       "      <td>1133</td>\n",
       "    </tr>\n",
       "    <tr>\n",
       "      <td>19</td>\n",
       "      <td>LUNCH BAG SUKI DESIGN</td>\n",
       "      <td>1121</td>\n",
       "    </tr>\n",
       "  </tbody>\n",
       "</table>\n",
       "</div>"
      ],
      "text/plain": [
       "                           Description  ValueCount\n",
       "0   WHITE HANGING HEART T-LIGHT HOLDER        2327\n",
       "1              JUMBO BAG RED RETROSPOT        2115\n",
       "2              LUNCH BAG RED RETROSPOT        1594\n",
       "3        ASSORTED COLOUR BIRD ORNAMENT        1489\n",
       "4                        PARTY BUNTING        1466\n",
       "5      PACK OF 72 RETROSPOT CAKE CASES        1370\n",
       "6              LUNCH BAG  BLACK SKULL.        1328\n",
       "7      NATURAL SLATE HEART CHALKBOARD         1263\n",
       "8              JUMBO BAG PINK POLKADOT        1238\n",
       "9                HEART OF WICKER SMALL        1226\n",
       "10     PAPER CHAIN KIT 50'S CHRISTMAS         1200\n",
       "11              JUMBO STORAGE BAG SUKI        1197\n",
       "12   JUMBO SHOPPER VINTAGE RED PAISLEY        1190\n",
       "13   SET OF 3 CAKE TINS PANTRY DESIGN         1182\n",
       "14          LUNCH BAG SPACEBOY DESIGN         1179\n",
       "15                 LUNCH BAG CARS BLUE        1174\n",
       "16              JAM MAKING SET PRINTED        1169\n",
       "17            JAM MAKING SET WITH JARS        1142\n",
       "18     RECIPE BOX PANTRY YELLOW DESIGN        1133\n",
       "19              LUNCH BAG SUKI DESIGN         1121"
      ]
     },
     "execution_count": 55,
     "metadata": {},
     "output_type": "execute_result"
    }
   ],
   "source": [
    "top_20_bought = get_top_nums(normal, 'Description', 20)\n",
    "top_20_bought"
   ]
  },
  {
   "cell_type": "code",
   "execution_count": 56,
   "metadata": {},
   "outputs": [
    {
     "data": {
      "image/png": "[encoded data removed]",
      "text/plain": [
       "<Figure size 864x432 with 1 Axes>"
      ]
     },
     "metadata": {
      "needs_background": "light"
     },
     "output_type": "display_data"
    }
   ],
   "source": [
    "_ = plt.figure(figsize=[12,6])\n",
    "_ = plt.bar(top_20_bought['Description'], height=top_20_bought['ValueCount'])\n",
    "_ = plt.xlabel('Product')\n",
    "_ = plt.xticks(rotation=90)\n",
    "_ = plt.ylabel('Number of purchases')\n",
    "_ = plt.title('20 most frequently purchased products')\n",
    "plt.show()"
   ]
  },
  {
   "cell_type": "markdown",
   "metadata": {},
   "source": [
    "I checked to see if any of the top purchased products were also in the top cancelled products by using an inner join. There were no products that made the top 20 of boths lists."
   ]
  },
  {
   "cell_type": "code",
   "execution_count": 58,
   "metadata": {},
   "outputs": [
    {
     "data": {
      "text/html": [
       "<div>\n",
       "<style scoped>\n",
       "    .dataframe tbody tr th:only-of-type {\n",
       "        vertical-align: middle;\n",
       "    }\n",
       "\n",
       "    .dataframe tbody tr th {\n",
       "        vertical-align: top;\n",
       "    }\n",
       "\n",
       "    .dataframe thead th {\n",
       "        text-align: right;\n",
       "    }\n",
       "</style>\n",
       "<table border=\"1\" class=\"dataframe\">\n",
       "  <thead>\n",
       "    <tr style=\"text-align: right;\">\n",
       "      <th></th>\n",
       "      <th>Description</th>\n",
       "      <th>ValueCount_x</th>\n",
       "      <th>ValueCount_y</th>\n",
       "    </tr>\n",
       "  </thead>\n",
       "  <tbody>\n",
       "    <tr>\n",
       "      <td>0</td>\n",
       "      <td>JAM MAKING SET WITH JARS</td>\n",
       "      <td>87</td>\n",
       "      <td>1142</td>\n",
       "    </tr>\n",
       "    <tr>\n",
       "      <td>1</td>\n",
       "      <td>SET OF 3 CAKE TINS PANTRY DESIGN</td>\n",
       "      <td>74</td>\n",
       "      <td>1182</td>\n",
       "    </tr>\n",
       "    <tr>\n",
       "      <td>2</td>\n",
       "      <td>RECIPE BOX PANTRY YELLOW DESIGN</td>\n",
       "      <td>47</td>\n",
       "      <td>1133</td>\n",
       "    </tr>\n",
       "    <tr>\n",
       "      <td>3</td>\n",
       "      <td>LUNCH BAG RED RETROSPOT</td>\n",
       "      <td>44</td>\n",
       "      <td>1594</td>\n",
       "    </tr>\n",
       "    <tr>\n",
       "      <td>4</td>\n",
       "      <td>JUMBO BAG RED RETROSPOT</td>\n",
       "      <td>44</td>\n",
       "      <td>2115</td>\n",
       "    </tr>\n",
       "    <tr>\n",
       "      <td>5</td>\n",
       "      <td>WHITE HANGING HEART T-LIGHT HOLDER</td>\n",
       "      <td>42</td>\n",
       "      <td>2327</td>\n",
       "    </tr>\n",
       "  </tbody>\n",
       "</table>\n",
       "</div>"
      ],
      "text/plain": [
       "                          Description  ValueCount_x  ValueCount_y\n",
       "0            JAM MAKING SET WITH JARS            87          1142\n",
       "1   SET OF 3 CAKE TINS PANTRY DESIGN             74          1182\n",
       "2     RECIPE BOX PANTRY YELLOW DESIGN            47          1133\n",
       "3             LUNCH BAG RED RETROSPOT            44          1594\n",
       "4             JUMBO BAG RED RETROSPOT            44          2115\n",
       "5  WHITE HANGING HEART T-LIGHT HOLDER            42          2327"
      ]
     },
     "execution_count": 58,
     "metadata": {},
     "output_type": "execute_result"
    }
   ],
   "source": [
    "common = can_top20.merge(top_20_bought, how='inner', on='Description')\n",
    "common"
   ]
  },
  {
   "cell_type": "code",
   "execution_count": null,
   "metadata": {},
   "outputs": [],
   "source": []
  }
 ],
 "metadata": {
  "kernelspec": {
   "display_name": "Python 3",
   "language": "python",
   "name": "python3"
  },
  "language_info": {
   "codemirror_mode": {
    "name": "ipython",
    "version": 3
   },
   "file_extension": ".py",
   "mimetype": "text/x-python",
   "name": "python",
   "nbconvert_exporter": "python",
   "pygments_lexer": "ipython3",
   "version": "3.7.4"
  }
 },
 "nbformat": 4,
 "nbformat_minor": 2
}
