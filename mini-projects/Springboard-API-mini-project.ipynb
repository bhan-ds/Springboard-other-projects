{
 "cells": [
  {
   "cell_type": "markdown",
   "metadata": {},
   "source": [
    "Using quandl, complete the following tasks for this mini project:\n",
    "1. Collect data from the Franfurt Stock Exchange, for the ticker AFX_X, for the whole year 2017 (keep in mind that the date format is YYYY-MM-DD).\n",
    "2. Convert the returned JSON object into a Python dictionary.\n",
    "3. Calculate what the highest and lowest opening prices were for the stock in this period.\n",
    "4. What was the largest change in any one day (based on High and Low price)?\n",
    "5. What was the largest change between any two days (based on Closing Price)?\n",
    "6. What was the average daily trading volume during this year?\n",
    "7. (Optional) What was the median trading volume during this year. (Note: you may need to implement your own function for calculating the median.)"
   ]
  },
  {
   "cell_type": "markdown",
   "metadata": {},
   "source": [
    "Importing modules and defining API key"
   ]
  },
  {
   "cell_type": "code",
   "execution_count": 1,
   "metadata": {},
   "outputs": [],
   "source": [
    "import requests\n",
    "import json\n",
    "API_KEY = 'xxxx'"
   ]
  },
  {
   "cell_type": "markdown",
   "metadata": {},
   "source": [
    "looking at the Quandl API by a single day, narrowing down to daily, limiting to \n",
    "1 row, and returning the dataset as a json"
   ]
  },
  {
   "cell_type": "code",
   "execution_count": 2,
   "metadata": {},
   "outputs": [
    {
     "data": {
      "text/plain": [
       "'{\"dataset_data\":{\"limit\":1,\"transform\":null,\"column_index\":null,\"column_names\":[\"Date\",\"Open\",\"High\",\"Low\",\"Close\",\"Change\",\"Traded Volume\",\"Turnover\",\"Last Price of the Day\",\"Daily Traded Units\",\"Daily Turnover\"],\"start_date\":\"2000-06-07\",\"end_date\":\"2019-12-12\",\"frequency\":\"daily\",\"data\":[[\"2019-12-12\",113.0,113.9,111.4,111.9,null,169064.0,18990658.0,null,null,null]],\"collapse\":\"daily\",\"order\":null}}'"
      ]
     },
     "execution_count": 2,
     "metadata": {},
     "output_type": "execute_result"
    }
   ],
   "source": [
    "r = requests.get('https://www.quandl.com/api/v3/datasets/FSE/AFX_X/data.json?collapse=daily&limit=1&api_key=xxxx')\n",
    "r.text"
   ]
  },
  {
   "cell_type": "markdown",
   "metadata": {},
   "source": [
    "1) changing call to get data on the entire year of 2017.\n",
    "I did comment out the r.text call to improve readability"
   ]
  },
  {
   "cell_type": "code",
   "execution_count": 3,
   "metadata": {},
   "outputs": [],
   "source": [
    "r = requests.get('https://www.quandl.com/api/v3/datasets/FSE/AFX_X/data.json?start_date=2017-01-01&end_date=2017-12-31&api_key=xxxx')\n",
    "#r.text"
   ]
  },
  {
   "cell_type": "markdown",
   "metadata": {},
   "source": [
    "2) Convert into a python dictionary.\n",
    "I did comment out the print of pydict to improve readability. "
   ]
  },
  {
   "cell_type": "code",
   "execution_count": 4,
   "metadata": {},
   "outputs": [],
   "source": [
    "pydict = r.json()\n",
    "#pydict"
   ]
  },
  {
   "cell_type": "markdown",
   "metadata": {},
   "source": [
    "3) Calculating highest and lowest prices during 2014. I narrowed down what I'm working with to the nested list 'data' to access values of high and low. \n",
    "Then I zipped the list together to make it easier to access only certain columns of data."
   ]
  },
  {
   "cell_type": "code",
   "execution_count": 5,
   "metadata": {},
   "outputs": [],
   "source": [
    "results = pydict['dataset_data']['data']\n",
    "zipped_list = list(zip(*results))"
   ]
  },
  {
   "cell_type": "markdown",
   "metadata": {},
   "source": [
    "I did print out zipped_list[1] (which corresponds to the Open column) to get a better picture and noted the None values. So I created a new list using a for loop to get rid of the None values. "
   ]
  },
  {
   "cell_type": "code",
   "execution_count": 6,
   "metadata": {},
   "outputs": [],
   "source": [
    "new_zip = []\n",
    "for value in zipped_list[1]:\n",
    "    if value != None:\n",
    "        new_zip.append(value)\n"
   ]
  },
  {
   "cell_type": "markdown",
   "metadata": {},
   "source": [
    "Using the max() and min() functions to find the largest and smallest value the new_zip list."
   ]
  },
  {
   "cell_type": "code",
   "execution_count": 7,
   "metadata": {},
   "outputs": [
    {
     "name": "stdout",
     "output_type": "stream",
     "text": [
      "53.11\n",
      "34.0\n"
     ]
    }
   ],
   "source": [
    "highest_open = max(new_zip)\n",
    "print(highest_open)\n",
    "\n",
    "lowest_open = min(new_zip)\n",
    "print(lowest_open)\n"
   ]
  },
  {
   "cell_type": "markdown",
   "metadata": {},
   "source": [
    "4) To find the biggest difference on any given day based on the high and low of that day, I made a list called differences. I looped through my previous lists of the open and close prices and added the difference to the list 'differences'. Then, it was simply using the max() function to return to highest value AKA the biggest difference. "
   ]
  },
  {
   "cell_type": "code",
   "execution_count": 8,
   "metadata": {},
   "outputs": [
    {
     "name": "stdout",
     "output_type": "stream",
     "text": [
      "19.92\n"
     ]
    }
   ],
   "source": [
    "differences = []\n",
    "highs = zipped_list[2]\n",
    "lows = zipped_list[3]\n",
    "for i in highs:\n",
    "    for j in lows:\n",
    "        differences.append(i-j)\n",
    "\n",
    "print(max(differences))"
   ]
  },
  {
   "cell_type": "markdown",
   "metadata": {},
   "source": [
    "5) First, I made a variable of the contents of my zipped list from index 4: the close price. \n",
    "Then I made a blank dictionary for the two day differences: two_day_diff. \n",
    "I used a for loop to compare each value to the previous value and appended the difference to my dictionary. Then I used the max() function to print the highest value. "
   ]
  },
  {
   "cell_type": "code",
   "execution_count": 9,
   "metadata": {},
   "outputs": [
    {
     "name": "stdout",
     "output_type": "stream",
     "text": [
      "15.96\n"
     ]
    }
   ],
   "source": [
    "close_price = zipped_list[4]\n",
    "\n",
    "two_day_diff = []\n",
    "for i in range(len(close_price)):\n",
    "    prev = close_price[i-1]\n",
    "    current = close_price[i]\n",
    "    two_day_diff.append(current-prev)\n",
    "    \n",
    "print(max(two_day_diff)) "
   ]
  },
  {
   "cell_type": "markdown",
   "metadata": {},
   "source": [
    "6) First, I made a variable of the contents of my zipped list from index 6: Daily Traded volume. \n",
    "Then I made a function to define the average of the items in the list and called the function to my daily_volumne list. It printed the result. "
   ]
  },
  {
   "cell_type": "code",
   "execution_count": 10,
   "metadata": {},
   "outputs": [
    {
     "name": "stdout",
     "output_type": "stream",
     "text": [
      "89124.33725490196\n"
     ]
    }
   ],
   "source": [
    "daily_volume = zipped_list[6]\n",
    "\n",
    "def Average(lst):\n",
    "    avg = sum(lst)/len(lst)\n",
    "    print(avg)\n",
    "\n",
    "Average(daily_volume)\n"
   ]
  },
  {
   "cell_type": "markdown",
   "metadata": {},
   "source": [
    "7) To calculate the mean, I utilized the same list from above and created a function to print the mean. Optional) What was the median trading volume during this year. (Note: you may need to implement your own function for calculating the median.\n",
    "\n",
    "I was fortunate in that my list was an odd number, so the median is a number. Otherwise, I would have to extend the function to take an average of the middle two numbers to calculate the median. If I was allowed for this project to utilize third party Python packages, I would have simply used the statistics package for this problem and the last.  \n"
   ]
  },
  {
   "cell_type": "code",
   "execution_count": 11,
   "metadata": {},
   "outputs": [
    {
     "name": "stdout",
     "output_type": "stream",
     "text": [
      "127\n"
     ]
    }
   ],
   "source": [
    "def median(lst):\n",
    "    sort= sorted(lst)\n",
    "    middle = len(lst)//2\n",
    "    print(middle)\n",
    "\n",
    "median(daily_volume)"
   ]
  },
  {
   "cell_type": "code",
   "execution_count": null,
   "metadata": {},
   "outputs": [],
   "source": []
  }
 ],
 "metadata": {
  "kernelspec": {
   "display_name": "Python 3",
   "language": "python",
   "name": "python3"
  },
  "language_info": {
   "codemirror_mode": {
    "name": "ipython",
    "version": 3
   },
   "file_extension": ".py",
   "mimetype": "text/x-python",
   "name": "python",
   "nbconvert_exporter": "python",
   "pygments_lexer": "ipython3",
   "version": "3.7.4"
  }
 },
 "nbformat": 4,
 "nbformat_minor": 2
}
